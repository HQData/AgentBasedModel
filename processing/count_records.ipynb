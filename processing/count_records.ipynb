{
 "cells": [
  {
   "cell_type": "code",
   "execution_count": 1,
   "metadata": {
    "collapsed": true
   },
   "outputs": [],
   "source": [
    "# The United States Environmental Protection Agency through its Office of\n",
    "# Research and Development has developed this software. The code is made\n",
    "# publicly available to better communicate the research. All input data\n",
    "# used fora given application should be reviewed by the researcher so\n",
    "# that the model results are based on appropriate data for any given\n",
    "# application. This model is under continued development. The model and\n",
    "# data included herein do not represent and should not be construed to\n",
    "# represent any Agency determination or policy.\n",
    "#\n",
    "# This file was written by Dr. Namdi Brandon\n",
    "# ORCID: 0000-0001-7050-1538\n",
    "# March 22, 2018"
   ]
  },
  {
   "cell_type": "markdown",
   "metadata": {},
   "source": [
    "This function reports the amount of records from the Consolidated Human Activity Database (CHAD) records for each activity for each demographic that are suitable for use within the Agent-Based Model of Human Activity Patterns (ABMHAP) code."
   ]
  },
  {
   "cell_type": "markdown",
   "metadata": {},
   "source": [
    "import "
   ]
  },
  {
   "cell_type": "code",
   "execution_count": 1,
   "metadata": {
    "collapsed": true
   },
   "outputs": [],
   "source": [
    "#\n",
    "# import\n",
    "#\n",
    "import sys\n",
    "sys.path.append('..\\\\source')\n",
    "sys.path.append('..\\\\run_chad')\n",
    "\n",
    "# math capability\n",
    "import numpy as np\n",
    "\n",
    "# data frame capability\n",
    "import pandas as pd\n",
    "\n",
    "# zipfile capability\n",
    "import zipfile\n",
    "\n",
    "# ABMHAP modules\n",
    "import my_globals as mg\n",
    "import chad_demography_adult_work as cdaw\n",
    "import chad_demography_adult_non_work as cdanw\n",
    "import chad_demography_child_school as cdcs\n",
    "import chad_demography_child_young as cdcy\n",
    "\n",
    "import chad"
   ]
  },
  {
   "cell_type": "markdown",
   "metadata": {},
   "source": [
    "define functions"
   ]
  },
  {
   "cell_type": "code",
   "execution_count": 2,
   "metadata": {
    "collapsed": true
   },
   "outputs": [],
   "source": [
    "def counter(demos, names, key):\n",
    "    \n",
    "    \"\"\"\n",
    "    This create a dataframe that contains the amount of CHAD records for the single-entry \\\n",
    "    and longitdinal data.\n",
    "    \n",
    "    :param demos: the demographics to compare the results to\n",
    "    :type demoos: list of demography.Demography\n",
    "    :param names: the names of the demographcs, respectively\n",
    "    :type names: list of str\n",
    "    :param int key: the ABMHAP activity code\n",
    "    \n",
    "    :return: a table the shows how many individuals have single-entry and longitudinal data \\\n",
    "    within each demographic\n",
    "    :retype: pandas.core.frame.DataFrame\n",
    "    \"\"\"\n",
    "    \n",
    "    do_periodic = False\n",
    "    \n",
    "    if key == mg.KEY_SLEEP:\n",
    "        do_periodic = True\n",
    "        \n",
    "    solo_count = np.zeros( (len(demos), ) )\n",
    "    long_count = np.zeros( solo_count.shape)\n",
    "\n",
    "    for i, demo in enumerate(demos):\n",
    "        solo, long = f(demo.fname_zip, demo.fname_stats[key][chad.RECORD], demo.int_2_param[key], \n",
    "                       do_periodic)\n",
    "\n",
    "        solo_count[i] = sum( solo == 1 )\n",
    "        long_count[i] = sum( long >= 2)\n",
    "\n",
    "    df = pd.DataFrame( np.vstack( (solo_count, long_count) ).T )\n",
    "    df.columns = ('single', 'long')\n",
    "    df.index = names\n",
    "    \n",
    "    return df\n",
    "\n",
    "def f(fname_zip, fname_record, s_param, do_periodic):\n",
    "    \n",
    "    \"\"\"\n",
    "    This function opens the demographic data and counts the number of both the single-entry \\\n",
    "    (solo) records and the longitudinal (multiple-entry) records that can be used within \\\n",
    "    ABMHAP according to the sepcific activity's requirements for filtering CHAD data\n",
    "    \n",
    "    :param str fname_zip: the file name of the .zip file of the CHAD data for a specific \\\n",
    "    demographic\n",
    "    :param str fname_record: the file name of the CHAD record data for a given activity \\\n",
    "    within the specific demographic\n",
    "    :param chad_params.CHAD_params: the CHAD sampling parameters for the specific activity\n",
    "    :param bool do_periodic: a flag to inicate whether (if True) or not (if False) \\\n",
    "    to express time of day in hours [-12, 12)\n",
    "    \n",
    "    :return: for each person within the deographic in the CHAD data, the number of activity \\\n",
    "    instances from the single-entry record data, multiple-entry record data\n",
    "    :rtype: numpy.ndarray, numpy.ndarray\n",
    "    \"\"\"\n",
    "    \n",
    "    # the zipfile of the data for the given demographic\n",
    "    z = zipfile.ZipFile(fname_zip)\n",
    "    \n",
    "    # count the number of activity instances per PID for the multiple-entry records\n",
    "    long = f_temp(z, fname_record, s_param, do_periodic)\n",
    "    \n",
    "    # count the number of activity instances per PID for the single-entry records\n",
    "    solo = f_temp(z, fname_record.replace('longitude', 'solo'), s_param, do_periodic)\n",
    "            \n",
    "    return solo, long\n",
    "\n",
    "def f_temp(z, fname_record, s_param, do_periodic):\n",
    "    \n",
    "    \"\"\"\n",
    "    This function reads the record file and counts the number of entries of a person in \\\n",
    "    CHAD for a given activity with single-entry or multiple-entry data.\n",
    "    \n",
    "    :param zipfile.Zipfile:\n",
    "    :param str fname_record: the file name of the CHAD record data for a given activity \\\n",
    "    within the specific demographic\n",
    "    :param chad_params.CHAD_params: the CHAD sampling parameters for the specific activity\n",
    "    :param bool do_periodic: a flag to inicate whether (if True) or not (if False) \\\n",
    "    to express time of day in hours [-12, 12)\n",
    "    \n",
    "    :return: the number of activity instances per PID\n",
    "    :rtype: numpy.ndarray\n",
    "    \"\"\"\n",
    "    \n",
    "    # read the record file\n",
    "    df      = pd.read_csv( z.open(fname_record, mode='r') )\n",
    "    \n",
    "    # filter the dataframe for valid values for the reocrds\n",
    "    df      = s_param.get_record(df, do_periodic)\n",
    "    \n",
    "    # group the records by PID\n",
    "    gb      = df.groupby('PID')\n",
    "    \n",
    "    # count the number of records per PID\n",
    "    counts  = np.array( [ len(gb.get_group(u)) for u in df.PID.unique() ] )\n",
    "    \n",
    "    return counts\n",
    "\n",
    "\n",
    "def print_count(demo, key, do_periodic=False):    \n",
    "  \n",
    "    \"\"\"\n",
    "    This function prints the counts of single-entry data and longitudinal data.\n",
    "    \n",
    "    :param demography.Demography: the demographic of interest\n",
    "    :int key: activity code\n",
    "    :param bool do_periodic: a flag to inicate whether (if True) or not (if False) \\\n",
    "    to express time of day in hours [-12, 12)\n",
    "    \n",
    "    :return:\n",
    "    \"\"\"\n",
    "    \n",
    "    # count the number of activity instances per PID for the given activity within \n",
    "    # both the single-entry data and longitudinal data\n",
    "    solo, long = f(demo.fname_zip, demo.fname_stats[key][chad.RECORD], demo.int_2_param[key], \\\n",
    "                  do_periodic)\n",
    "    \n",
    "    # print the results\n",
    "    print( 'solo: %d\\tlong: %d' % (sum(solo == 1), sum(long >= 2) ) )\n",
    "    \n",
    "    return\n",
    "\n"
   ]
  },
  {
   "cell_type": "markdown",
   "metadata": {},
   "source": [
    "load the demographics information"
   ]
  },
  {
   "cell_type": "code",
   "execution_count": 3,
   "metadata": {
    "collapsed": true
   },
   "outputs": [],
   "source": [
    "#\n",
    "# load demographics\n",
    "#\n",
    "adult_work = cdaw.CHAD_demography_adult_work()\n",
    "adult_non_work = cdanw.CHAD_demography_adult_non_work()\n",
    "child_school = cdcs.CHAD_demography_child_school()\n",
    "child_young = cdcy.CHAD_demography_child_young()"
   ]
  },
  {
   "cell_type": "code",
   "execution_count": 4,
   "metadata": {
    "collapsed": true
   },
   "outputs": [],
   "source": [
    "# set the demographics and names for the data frame rows\n",
    "demos = [adult_work, adult_non_work, child_school, child_young]\n",
    "names = ['adult_work', 'adult_non_work', 'child_school', 'child_young']\n",
    "\n",
    "demos_work = [adult_work, child_school]\n",
    "names_work = ['adult_work', 'child_school']"
   ]
  },
  {
   "cell_type": "markdown",
   "metadata": {},
   "source": [
    "meals and sleep"
   ]
  },
  {
   "cell_type": "code",
   "execution_count": 5,
   "metadata": {
    "collapsed": true
   },
   "outputs": [],
   "source": [
    "# breakfast\n",
    "bf = counter(demos, names, mg.KEY_EAT_BREAKFAST)\n",
    "\n",
    "# lunch\n",
    "lunch = counter(demos, names, mg.KEY_EAT_LUNCH)\n",
    "\n",
    "# dinner\n",
    "dinner = counter(demos, names, mg.KEY_EAT_DINNER)\n",
    "\n",
    "# sleep\n",
    "sleep = counter(demos, names, mg.KEY_SLEEP)"
   ]
  },
  {
   "cell_type": "markdown",
   "metadata": {},
   "source": [
    "commuting, working"
   ]
  },
  {
   "cell_type": "code",
   "execution_count": 6,
   "metadata": {
    "collapsed": true
   },
   "outputs": [],
   "source": [
    "work = counter(demos_work, names_work, mg.KEY_WORK)\n",
    "commute_to_work = counter(demos_work, names_work, mg.KEY_COMMUTE_TO_WORK)\n",
    "commute_from_work = counter(demos_work, names_work, mg.KEY_COMMUTE_FROM_WORK)"
   ]
  },
  {
   "cell_type": "markdown",
   "metadata": {},
   "source": [
    "View"
   ]
  },
  {
   "cell_type": "code",
   "execution_count": 18,
   "metadata": {},
   "outputs": [
    {
     "data": {
      "text/html": [
       "<div>\n",
       "<style>\n",
       "    .dataframe thead tr:only-child th {\n",
       "        text-align: right;\n",
       "    }\n",
       "\n",
       "    .dataframe thead th {\n",
       "        text-align: left;\n",
       "    }\n",
       "\n",
       "    .dataframe tbody tr th {\n",
       "        vertical-align: top;\n",
       "    }\n",
       "</style>\n",
       "<table border=\"1\" class=\"dataframe\">\n",
       "  <thead>\n",
       "    <tr style=\"text-align: right;\">\n",
       "      <th></th>\n",
       "      <th>single</th>\n",
       "      <th>long</th>\n",
       "    </tr>\n",
       "  </thead>\n",
       "  <tbody>\n",
       "    <tr>\n",
       "      <th>adult_work</th>\n",
       "      <td>662.0</td>\n",
       "      <td>501.0</td>\n",
       "    </tr>\n",
       "    <tr>\n",
       "      <th>adult_non_work</th>\n",
       "      <td>620.0</td>\n",
       "      <td>0.0</td>\n",
       "    </tr>\n",
       "    <tr>\n",
       "      <th>child_school</th>\n",
       "      <td>903.0</td>\n",
       "      <td>139.0</td>\n",
       "    </tr>\n",
       "    <tr>\n",
       "      <th>child_young</th>\n",
       "      <td>115.0</td>\n",
       "      <td>0.0</td>\n",
       "    </tr>\n",
       "  </tbody>\n",
       "</table>\n",
       "</div>"
      ],
      "text/plain": [
       "                single   long\n",
       "adult_work       662.0  501.0\n",
       "adult_non_work   620.0    0.0\n",
       "child_school     903.0  139.0\n",
       "child_young      115.0    0.0"
      ]
     },
     "execution_count": 18,
     "metadata": {},
     "output_type": "execute_result"
    }
   ],
   "source": [
    "sleep"
   ]
  },
  {
   "cell_type": "code",
   "execution_count": null,
   "metadata": {
    "collapsed": true
   },
   "outputs": [],
   "source": []
  }
 ],
 "metadata": {
  "kernelspec": {
   "display_name": "Python 3",
   "language": "python",
   "name": "python3"
  },
  "language_info": {
   "codemirror_mode": {
    "name": "ipython",
    "version": 3
   },
   "file_extension": ".py",
   "mimetype": "text/x-python",
   "name": "python",
   "nbconvert_exporter": "python",
   "pygments_lexer": "ipython3",
   "version": "3.5.3"
  }
 },
 "nbformat": 4,
 "nbformat_minor": 1
}
