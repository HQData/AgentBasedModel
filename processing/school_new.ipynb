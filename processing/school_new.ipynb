{
 "cells": [
  {
   "cell_type": "code",
   "execution_count": 1,
   "metadata": {
    "collapsed": true
   },
   "outputs": [],
   "source": [
    "# The United States Environmental Protection Agency through its Office of\n",
    "# Research and Development has developed this software. The code is made\n",
    "# publicly available to better communicate the research. All input data\n",
    "# used fora given application should be reviewed by the researcher so\n",
    "# that the model results are based on appropriate data for any given\n",
    "# application. This model is under continued development. The model and\n",
    "# data included herein do not represent and should not be construed to\n",
    "# represent any Agency determination or policy.\n",
    "#\n",
    "# This file was written by Dr. Namdi Brandon\n",
    "# ORCID: 0000-0001-7050-1538\n",
    "# March 22, 2018"
   ]
  },
  {
   "cell_type": "markdown",
   "metadata": {
    "collapsed": true
   },
   "source": [
    "This file goes through the data from the Consoldiated Human Activity Database (CHAD) and gets information relevent to ** school** and processes the data for use in the Agent-Based Model of Human Activity Patterns (ABMHAP) for the school-age children demographic. More specficially, this file does the following:\n",
    "\n",
    "For school-age children demographic,\n",
    "\n",
    "1. This function goes through the CHAD data and finds the school activity data\n",
    "\n",
    "2. The CHAD activity data are seperated into start time, end time, duration, and CHAD record data\n",
    "\n",
    "3. The CHAD activity data is saved into longitudinal data and single-activity data"
   ]
  },
  {
   "cell_type": "markdown",
   "metadata": {},
   "source": [
    "import"
   ]
  },
  {
   "cell_type": "code",
   "execution_count": 1,
   "metadata": {
    "collapsed": true
   },
   "outputs": [],
   "source": [
    "import sys\n",
    "sys.path.append('..\\\\source')\n",
    "\n",
    "# ABMHAP modules\n",
    "import demography as dmg\n",
    "import datum"
   ]
  },
  {
   "cell_type": "markdown",
   "metadata": {},
   "source": [
    "load data"
   ]
  },
  {
   "cell_type": "code",
   "execution_count": 2,
   "metadata": {
    "collapsed": true
   },
   "outputs": [],
   "source": [
    "#\n",
    "# demographic\n",
    "# \n",
    "key = dmg.CHILD_SCHOOL\n",
    "\n",
    "fname_input, fpath_output = dmg.INT_2_FIN_FOUT_LARGE[key]\n",
    "\n",
    "# load the data\n",
    "data = dmg.load(fname_input)"
   ]
  },
  {
   "cell_type": "markdown",
   "metadata": {},
   "source": [
    "process the data"
   ]
  },
  {
   "cell_type": "code",
   "execution_count": 3,
   "metadata": {
    "collapsed": true
   },
   "outputs": [],
   "source": [
    "# dictionaries about the moments\n",
    "d = datum.analyze_education(data)"
   ]
  },
  {
   "cell_type": "markdown",
   "metadata": {
    "collapsed": true
   },
   "source": [
    "save the data"
   ]
  },
  {
   "cell_type": "code",
   "execution_count": 12,
   "metadata": {
    "collapsed": true
   },
   "outputs": [],
   "source": [
    "# choose to save longitudinal data or single-day data\n",
    "chooser = {True: (2, fpath_output + '\\\\longitude'), \n",
    "           False: (1, fpath_output + '\\\\solo'), } \n",
    "\n",
    "# whether to save the longitudinal data (if True) or the single-day data (if False)\n",
    "do_long = True"
   ]
  },
  {
   "cell_type": "code",
   "execution_count": 13,
   "metadata": {
    "collapsed": true
   },
   "outputs": [],
   "source": [
    "#\n",
    "# save the data \n",
    "#\n",
    "do_save = False\n",
    "\n",
    "if do_save:\n",
    "\n",
    "    N, fpath = chooser[do_long]\n",
    "    \n",
    "    # the directory the data should be saved in\n",
    "    fpath = fpath + '\\\\education'\n",
    "        \n",
    "    # save the data\n",
    "    stats_dt, stats_start, stats_end, record = d['stats_dt'], d['stats_start'], d['stats_end'], d['data']\n",
    "                    \n",
    "    if do_long:\n",
    "        dt, start, end, rec = datum.get_longitude(stats_dt, stats_start, stats_end, record, N=N)\n",
    "    else:\n",
    "        dt, start, end, rec = datum.get_solo(stats_dt, stats_start, stats_end, record)\n",
    "        \n",
    "    datum.save(fpath, record=rec, stats_dt=dt, stats_start=start, stats_end=end)\n",
    "        "
   ]
  }
 ],
 "metadata": {
  "kernelspec": {
   "display_name": "Python 3",
   "language": "python",
   "name": "python3"
  },
  "language_info": {
   "codemirror_mode": {
    "name": "ipython",
    "version": 3
   },
   "file_extension": ".py",
   "mimetype": "text/x-python",
   "name": "python",
   "nbconvert_exporter": "python",
   "pygments_lexer": "ipython3",
   "version": "3.5.3"
  }
 },
 "nbformat": 4,
 "nbformat_minor": 1
}
