{
 "cells": [
  {
   "cell_type": "code",
   "execution_count": 2,
   "metadata": {
    "collapsed": true
   },
   "outputs": [],
   "source": [
    "# The United States Environmental Protection Agency through its Office of\n",
    "# Research and Development has developed this software. The code is made\n",
    "# publicly available to better communicate the research. All input data\n",
    "# used fora given application should be reviewed by the researcher so\n",
    "# that the model results are based on appropriate data for any given\n",
    "# application. This model is under continued development. The model and\n",
    "# data included herein do not represent and should not be construed to\n",
    "# represent any Agency determination or policy.\n",
    "#\n",
    "# This file was written by Dr. Namdi Brandon\n",
    "# ORCID: 0000-0001-7050-1538\n",
    "# March 22, 2018"
   ]
  },
  {
   "cell_type": "markdown",
   "metadata": {},
   "source": [
    "This file does the following\n",
    "\n",
    "1. Goes through the Consolidated Human Activity Database (CHAD) data and seprates CHAD into datasets of different demographic groups \n",
    "\n",
    "2. Or loads saved datasets representing different demographic groups for CHAD\n",
    "\n",
    "3. Saves data for each demographic group:\n",
    "\n",
    "    * Saves the demographic data into the 'data_large' directory \n",
    "    * Saves the demographic in a compressed form in the 'data' directory as zip files\n",
    "    \n",
    "4. For a given demographic group and a given collection of activities\n",
    "\n",
    "    * prints the amount of individuals found doing each activity given by a unique CHAD code    \n",
    "    * plots the histogram and/or CDF of distributions of start time, end time, and duration for each specific activity given by a CHAD code\n",
    "    * Saves the plots\n"
   ]
  },
  {
   "cell_type": "markdown",
   "metadata": {},
   "source": [
    "import"
   ]
  },
  {
   "cell_type": "code",
   "execution_count": 2,
   "metadata": {
    "collapsed": true
   },
   "outputs": [],
   "source": [
    "#\n",
    "# import\n",
    "#\n",
    "import sys\n",
    "sys.path.append('..\\\\source')\n",
    "sys.path.append('..\\\\run_chad')\n",
    "import os\n",
    "\n",
    "# plotting capabilities\n",
    "import matplotlib.pylab as plt\n",
    "\n",
    "# math capability\n",
    "import numpy as np\n",
    "\n",
    "# ABMHAP modules\n",
    "import my_globals as mg\n",
    "import demography as dmg\n",
    "\n",
    "import chad, chad_code"
   ]
  },
  {
   "cell_type": "markdown",
   "metadata": {},
   "source": [
    "functions"
   ]
  },
  {
   "cell_type": "code",
   "execution_count": 5,
   "metadata": {
    "collapsed": true
   },
   "outputs": [],
   "source": [
    "def plot_cdfs(df, codes, N=1000, linewidth=1, do_save=False, fpath=''):\n",
    "\n",
    "    \"\"\"\n",
    "    This function plots the distribution of activity distrbution of \\\n",
    "    start time, end time, and duration as cumulative distribution \\\n",
    "    functions (CDFs) from the CHAD data of the given activity.\n",
    "    \n",
    "    :param pandas.core.frame.DataFrame df:\n",
    "    :param codes: the CHAD activity codes\n",
    "    :type codes: list of list of int\n",
    "    :param int N: the number of points sampled within the empirical CDF\n",
    "    :param int linewidth: the width of the plotted lines\n",
    "    :param bool do_save: a flag indicating whether (if True) to save the \\\n",
    "    figures or not(if False)\n",
    "    :param str fpath: the file directory to save the files in\n",
    "    \n",
    "    :return:\n",
    "    \"\"\"\n",
    "    \n",
    "    # codes: chad_codes for each activity\n",
    "\n",
    "    figs, fnames = [], []\n",
    "\n",
    "    # for each activity category within the CHAD codes\n",
    "    for act in codes:\n",
    "        \n",
    "        # get the data w\n",
    "        temp = df[df.act == act]\n",
    "        gb = temp.groupby('PID')\n",
    "\n",
    "        # get the mean duration data\n",
    "        y_dt = np.array( [ gb.get_group(p).dt.mean() for p in temp.PID.unique() ] )\n",
    "        \n",
    "        # get the mean start time data\n",
    "        y_start = np.array( [ gb.get_group(p).start.mean() for p in temp.PID.unique() ] )\n",
    "        \n",
    "        # get the mean end time data\n",
    "        y_end = np.array( [ gb.get_group(p).end.mean() for p in temp.PID.unique() ] )\n",
    "\n",
    "        if len(y_dt) != 0:\n",
    "            \n",
    "            # create subplots\n",
    "            fig, axes = plt.subplots(2,2)\n",
    "\n",
    "            # create title\n",
    "            fig.suptitle(chad_code.INT_2_STR[act])\n",
    "\n",
    "            # plot the start time\n",
    "            ax = axes[0, 0]\n",
    "            x, y = mg.get_ecdf(y_start, N)\n",
    "            ax.plot(x, y, color='blue', label='start', lw=linewidth)\n",
    "\n",
    "            # plot the end time\n",
    "            ax = axes[0, 1]\n",
    "            x, y = mg.get_ecdf(y_end, N)\n",
    "            ax.plot(x, y, color='purple', label='end', lw=linewidth)\n",
    "\n",
    "            # plot the duration\n",
    "            ax = axes[1, 0]\n",
    "            x, y = mg.get_ecdf(y_dt, N)\n",
    "            ax.plot(x, y, color='red', label='duration', lw=linewidth)\n",
    "\n",
    "            # plot axis label and legend\n",
    "            for ax in axes.flatten():\n",
    "                ax.set_xlabel('Hours')\n",
    "                ax.legend(loc='best') \n",
    "                \n",
    "            #\n",
    "            # save\n",
    "            #\n",
    "            if do_save:\n",
    "                # figure name\n",
    "                fname = fpath + chad_code.INT_2_SAVE_FIG_FNAME[act]\n",
    "                \n",
    "                # split the file name into 2 parts from the back\n",
    "                x = fname.rsplit('\\\\', maxsplit=1)\n",
    "                \n",
    "                # create the filename\n",
    "                fname = x[0] + '\\\\cdf\\\\' + x[1]                          \n",
    "                \n",
    "                print(fname)\n",
    "                \n",
    "                # add list of figures and finle names\n",
    "                figs.append(fig)                            \n",
    "                fnames.append(fname)\n",
    "                \n",
    "    # save the figures\n",
    "    if do_save:\n",
    "        for fig, fname in zip(figs, fnames):            \n",
    "            os.makedirs(os.path.dirname(fname), exist_ok=True)\n",
    "            fig.savefig(fname, dpi=800)            \n",
    "            plt.close(fig)\n",
    "                \n",
    "\n",
    "    return\n",
    "\n",
    "def plot_histograms(df, codes, num_bins=12, fpath='', do_save=False):\n",
    "    \n",
    "    \"\"\"\n",
    "    This function plots the distribution of activity distrbution of \\\n",
    "    start time, end time, and duration as histograms from the CHAD \\\n",
    "    data of the given activity.\n",
    "    \n",
    "    :param pandas.core.frame.DataFrame df:\n",
    "    :param codes: the CHAD activity codes\n",
    "    :type codes: list of list of int\n",
    "    :param int num_bins: the number of bins within the histogram    \n",
    "    :param bool do_save: a flag indicating whether (if True) to save the \\\n",
    "    figures or not(if False)\n",
    "    :param str fpath: the file directory to save the files in\n",
    "    \n",
    "    :return:\n",
    "    \"\"\"\n",
    "        \n",
    "    figs, fnames = [], []\n",
    "    \n",
    "    # for each activitiy within the CHAD activity codes\n",
    "    for act in codes:\n",
    "    \n",
    "        # get the data w\n",
    "        temp = df[df.act == act]\n",
    "        gb = temp.groupby('PID')\n",
    "\n",
    "\n",
    "        # get the mean duration data\n",
    "        y_dt = np.array( [ gb.get_group(p).dt.mean() for p in temp.PID.unique() ] )\n",
    "        \n",
    "        # get the mean start time data\n",
    "        y_start = np.array( [ gb.get_group(p).start.mean() for p in temp.PID.unique() ] )\n",
    "        \n",
    "        # get the mean end time data\n",
    "        y_end = np.array( [ gb.get_group(p).end.mean() for p in temp.PID.unique() ] )\n",
    "\n",
    "        if len(y_dt) != 0:\n",
    "            # create subplots\n",
    "            fig, axes = plt.subplots(2,2)\n",
    "\n",
    "            # create title\n",
    "            fig.suptitle(chad_code.INT_2_STR[act])\n",
    "\n",
    "            # plot the start time\n",
    "            ax = axes[0, 0]    \n",
    "            ax.hist(y_start, bins=num_bins, color='blue', label='start')\n",
    "\n",
    "            # plot the end time\n",
    "            ax = axes[0, 1]\n",
    "            ax.hist(y_end, bins=num_bins, color='purple', label='end')\n",
    "\n",
    "            # plot the duration\n",
    "            ax = axes[1, 0]\n",
    "            ax.hist(y_dt, bins=num_bins, color='red', label='duration')\n",
    "\n",
    "            # plot axis label and legend\n",
    "            for ax in axes.flatten():\n",
    "                ax.set_xlabel('Hours')\n",
    "                ax.legend(loc='best')        \n",
    "\n",
    "            #\n",
    "            # save\n",
    "            #\n",
    "            if do_save:\n",
    "             \n",
    "                # figure name\n",
    "                fname = fpath + chad_code.INT_2_SAVE_FIG_FNAME[act]\n",
    "                \n",
    "                # split the file name into 2 parts from the back\n",
    "                x = fname.rsplit('\\\\', maxsplit=1)\n",
    "                \n",
    "                fname = x[0] + '\\\\histo\\\\' + x[1]\n",
    "                \n",
    "                print(fname)\n",
    "                # add list of figures and finle names\n",
    "                figs.append(fig)                            \n",
    "                fnames.append(fname)\n",
    "                \n",
    "    # save the figures\n",
    "    if do_save:\n",
    "        for fig, fname in zip(figs, fnames):            \n",
    "            \n",
    "            os.makedirs(os.path.dirname(fname), exist_ok=True)\n",
    "            fig.savefig(fname, dpi=800)\n",
    "            plt.close(fig)\n",
    "    return\n",
    "\n",
    "def save(x, fname):\n",
    "    \n",
    "    \"\"\"\n",
    "    This function saves the data for a given demographic.\n",
    "    \n",
    "    :param chad.CHAD_RAW x: the data to be pickled\n",
    "    :param str fname: the name of the file \n",
    "    \"\"\"\n",
    "    \n",
    "    # first, close the zip file. This is necessary to avoid an pickling error\n",
    "    x.z.close()\n",
    "    \n",
    "    # pickle the data\n",
    "    mg.save(x, fname)\n",
    "    \n",
    "    return"
   ]
  },
  {
   "cell_type": "markdown",
   "metadata": {},
   "source": [
    "Load data "
   ]
  },
  {
   "cell_type": "code",
   "execution_count": 4,
   "metadata": {
    "collapsed": true
   },
   "outputs": [],
   "source": [
    "# set flags\n",
    "\n",
    "# flag to load pre-saved CHAD data(if True) or (if False) to process the CHAD data, \\\n",
    "# which takes substantially more time\n",
    "do_load = True\n",
    "\n",
    "# flag to show messages\n",
    "do_print = True"
   ]
  },
  {
   "cell_type": "code",
   "execution_count": 20,
   "metadata": {
    "collapsed": true
   },
   "outputs": [],
   "source": [
    "#\n",
    "# load all of the data\n",
    "#\n",
    "if do_load:\n",
    "    all_data  = mg.load(dmg.FNAME_ALL)\n",
    "else:\n",
    "    all_data = dmg.get_all()"
   ]
  },
  {
   "cell_type": "code",
   "execution_count": 4,
   "metadata": {
    "collapsed": true
   },
   "outputs": [],
   "source": [
    "#\n",
    "# get all of the data for working age adults\n",
    "#\n",
    "if do_load:\n",
    "    adult = mg.load(dmg.FNAME_ADULT)\n",
    "else:\n",
    "    adult = dmg.get_adult()"
   ]
  },
  {
   "cell_type": "code",
   "execution_count": 5,
   "metadata": {
    "collapsed": true
   },
   "outputs": [],
   "source": [
    "#\n",
    "# get data for working adults\n",
    "#\n",
    "if do_load:\n",
    "    adult_work = mg.load(dmg.FNAME_ADULT_WORK)\n",
    "else:\n",
    "    adult_work = dmg.get_adult_work(adult)"
   ]
  },
  {
   "cell_type": "code",
   "execution_count": 6,
   "metadata": {
    "collapsed": true
   },
   "outputs": [],
   "source": [
    "#\n",
    "# get data for non-working adults\n",
    "#\n",
    "if do_load:\n",
    "    adult_non_work = mg.load(dmg.FNAME_ADULT_NON_WORK)\n",
    "else:\n",
    "    adult_non_work = dmg.get_adult_non_work(adult)"
   ]
  },
  {
   "cell_type": "code",
   "execution_count": 4,
   "metadata": {
    "collapsed": true
   },
   "outputs": [],
   "source": [
    "#\n",
    "# children school\n",
    "#\n",
    "if do_load:    \n",
    "    child_school = mg.load(dmg.FNAME_CHILD_SCHOOL)\n",
    "else:\n",
    "    child_school = dmg.get_child_school()"
   ]
  },
  {
   "cell_type": "code",
   "execution_count": 5,
   "metadata": {
    "collapsed": true
   },
   "outputs": [],
   "source": [
    "#\n",
    "# pre-school children\n",
    "#\n",
    "if do_load:\n",
    "    child_young = mg.load(dmg.FNAME_CHILD_YOUNG)\n",
    "else:\n",
    "    child_young = dmg.get_child_young()"
   ]
  },
  {
   "cell_type": "markdown",
   "metadata": {
    "collapsed": true
   },
   "source": [
    "save data"
   ]
  },
  {
   "cell_type": "markdown",
   "metadata": {},
   "source": [
    "save all the information for the demographics in data_large directory"
   ]
  },
  {
   "cell_type": "code",
   "execution_count": 28,
   "metadata": {
    "collapsed": true
   },
   "outputs": [],
   "source": [
    "# save all of the information for the following demographics\n",
    "\n",
    "do_save = False\n",
    "\n",
    "if do_save:\n",
    "    x = [all_data, adult, adult_non_work, adult_work, child_school, child_young]    \n",
    "    fnames = [ dmg.FNAME_ALL, dmg.FNAME_ADULT, dmg.FNAME_ADULT_NON_WORK, dmg.FNAME_ADULT_WORK, \\\n",
    "               dmg.FNAME_CHILD_SCHOOL, dmg.FNAME_CHILD_YOUNG ]\n",
    "    \n",
    "    # save all of the data\n",
    "    for y, fname in zip(x, fnames):\n",
    "        save(y, fname)"
   ]
  },
  {
   "cell_type": "markdown",
   "metadata": {},
   "source": [
    "Compress the demographics direcotory information"
   ]
  },
  {
   "cell_type": "code",
   "execution_count": 11,
   "metadata": {
    "collapsed": true
   },
   "outputs": [],
   "source": [
    "#\n",
    "# The demographic\n",
    "#\n",
    "demos = [dmg.ADULT_WORK, dmg.ADULT_NON_WORK, dmg.CHILD_SCHOOL, dmg.CHILD_YOUNG]\n"
   ]
  },
  {
   "cell_type": "code",
   "execution_count": 10,
   "metadata": {
    "collapsed": true
   },
   "outputs": [],
   "source": [
    "#\n",
    "# compress the directory in the non-large data directory\n",
    "#\n",
    "do_compression = False\n",
    "\n",
    "chooser_temp = {dmg.ADULT: (chad.FNAME_ADULT[:-4], chad.FDIR_ADULT_LARGE),\n",
    "           dmg.ADULT_WORK: (chad.FNAME_ADULT_WORK[:-4], chad.FDIR_ADULT_WORK_LARGE),\n",
    "           dmg.ADULT_NON_WORK: (chad.FNAME_ADULT_NON_WORK[:-4], chad.FDIR_ADULT_NON_WORK_LARGE),\n",
    "           dmg.CHILD_SCHOOL: (chad.FNAME_CHILD_SCHOOL[:-4], chad.FDIR_CHILD_SCHOOL_LARGE),\n",
    "           dmg.CHILD_YOUNG: (chad.FNAME_CHILD_YOUNG[:-4], chad.FDIR_CHILD_YOUNG_LARGE),\n",
    "          }\n",
    "\n",
    "if do_compression:\n",
    "    for d in demos:\n",
    "        fname_out, fdir_src = chooser_temp[d]\n",
    "        mg.save_zip(out_file=fname_out, source_dir=fdir_src)"
   ]
  },
  {
   "cell_type": "markdown",
   "metadata": {
    "collapsed": true
   },
   "source": [
    "printing information about the data"
   ]
  },
  {
   "cell_type": "code",
   "execution_count": 28,
   "metadata": {
    "collapsed": true
   },
   "outputs": [],
   "source": [
    "#\n",
    "# get the data\n",
    "#\n",
    "code_groups = [ chad_code.SLEEP, chad_code.EAT, chad_code.EDUCATION, chad_code.WORK, chad_code.COMMUTE, \\\n",
    "               chad_code.COMMUTE_EDU ]\n",
    "\n",
    "# code_groups = [chad_code.SLEEP]\n",
    "\n",
    "df_list = [ data.activity_times(data.events, codes) for codes in code_groups ]"
   ]
  },
  {
   "cell_type": "code",
   "execution_count": null,
   "metadata": {},
   "outputs": [],
   "source": [
    "#\n",
    "# for each CHAD code, print information about the amount of data that is in the respective demographic group\n",
    "#\n",
    "for df, codes in zip(df_list, code_groups):\n",
    "    \n",
    "    if do_print:\n",
    "        print('data shape')\n",
    "        print(df.shape)\n",
    "\n",
    "\n",
    "        print('number of individuals: %d' % len( df.PID.unique() ) )\n",
    "\n",
    "        for act in codes:\n",
    "            temp = df[df.act == act]\n",
    "            print('%s:\\tIndividuals:\\t%d\\tCount:\\t%d' % (chad_code.INT_2_STR[act], len(temp.PID.unique()), \\\n",
    "                                                         len(temp) ) )           \n",
    "\n",
    "        print('\\n')    "
   ]
  },
  {
   "cell_type": "markdown",
   "metadata": {},
   "source": [
    "plotting"
   ]
  },
  {
   "cell_type": "code",
   "execution_count": 26,
   "metadata": {
    "collapsed": true
   },
   "outputs": [],
   "source": [
    "chooser_fpath ={dmg.ALL: mg.FDIR_SAVE_FIG_ALL,\n",
    "                dmg.ADULT: mg.FDIR_SAVE_FIG_ADULT,\n",
    "                dmg.ADULT_WORK: mg.FDIR_SAVE_FIG_ADULT_WORK,\n",
    "                dmg.ADULT_NON_WORK: mg.FDIR_SAVE_FIG_ADULT_NON_WORK,\n",
    "                dmg.CHILD_SCHOOL: mg.FDIR_SAVE_FIG_CHILD_SCHOOL,\n",
    "                dmg.CHILD_YOUNG: mg.FDIR_SAVE_FIG_CHILD_YOUNG,\n",
    "               }\n",
    "\n",
    "chooser_data = {dmg.ALL: all_data,\n",
    "                dmg.ADULT: adult,\n",
    "                dmg.ADULT_WORK: adult_work,\n",
    "                dmg.ADULT_NON_WORK: adult_non_work,\n",
    "                dmg.CHILD_SCHOOL: child_school,\n",
    "                dmg.CHILD_YOUNG: child_young,\n",
    "               }"
   ]
  },
  {
   "cell_type": "code",
   "execution_count": 27,
   "metadata": {},
   "outputs": [
    {
     "name": "stdout",
     "output_type": "stream",
     "text": [
      "..\\my_data\\fig\\demographic\\adult_work\\chad\n"
     ]
    }
   ],
   "source": [
    "# \n",
    "# get data and fpath for saving\n",
    "#\n",
    "data = chooser_data[demo]\n",
    "fpath = chooser_fpath[demo] + '\\\\chad'\n",
    "\n",
    "print(fpath)"
   ]
  },
  {
   "cell_type": "code",
   "execution_count": 30,
   "metadata": {
    "collapsed": true
   },
   "outputs": [],
   "source": [
    "# flags for figures\n",
    "\n",
    "# plot the figures\n",
    "do_plot = False\n",
    "\n",
    "# save the figure plots\n",
    "do_save_fig= False"
   ]
  },
  {
   "cell_type": "code",
   "execution_count": 31,
   "metadata": {
    "collapsed": true
   },
   "outputs": [],
   "source": [
    "#\n",
    "# plot the histograms\n",
    "#\n",
    "\n",
    "if do_plot:\n",
    "    \n",
    "    for df, codes in zip(df_list, code_groups):\n",
    "        \n",
    "        plot_histograms(df, codes, num_bins=24, do_save=do_save_fig, fpath=fpath)\n",
    "\n",
    "    plt.show()"
   ]
  },
  {
   "cell_type": "code",
   "execution_count": 32,
   "metadata": {
    "collapsed": true
   },
   "outputs": [],
   "source": [
    "#\n",
    "# plot the CDFs\n",
    "#\n",
    "if do_plot:\n",
    "    \n",
    "    for df, codes in zip(df_list, code_groups):\n",
    "        \n",
    "        plot_cdfs(df, codes, linewidth=2, do_save=do_save_fig, fpath=fpath)\n",
    "\n",
    "    plt.show()"
   ]
  }
 ],
 "metadata": {
  "kernelspec": {
   "display_name": "Python 3",
   "language": "python",
   "name": "python3"
  },
  "language_info": {
   "codemirror_mode": {
    "name": "ipython",
    "version": 3
   },
   "file_extension": ".py",
   "mimetype": "text/x-python",
   "name": "python",
   "nbconvert_exporter": "python",
   "pygments_lexer": "ipython3",
   "version": "3.5.3"
  }
 },
 "nbformat": 4,
 "nbformat_minor": 1
}
