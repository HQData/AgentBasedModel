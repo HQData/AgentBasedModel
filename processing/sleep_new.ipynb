{
 "cells": [
  {
   "cell_type": "code",
   "execution_count": 1,
   "metadata": {
    "collapsed": true
   },
   "outputs": [],
   "source": [
    "# The United States Environmental Protection Agency through its Office of\n",
    "# Research and Development has developed this software. The code is made\n",
    "# publicly available to better communicate the research. All input data\n",
    "# used fora given application should be reviewed by the researcher so\n",
    "# that the model results are based on appropriate data for any given\n",
    "# application. This model is under continued development. The model and\n",
    "# data included herein do not represent and should not be construed to\n",
    "# represent any Agency determination or policy.\n",
    "#\n",
    "# This file was written by Dr. Namdi Brandon\n",
    "# ORCID: 0000-0001-7050-1538\n",
    "# March 22, 2018"
   ]
  },
  {
   "cell_type": "markdown",
   "metadata": {},
   "source": [
    "This file goes through the data from the Consoldiated Human Activity Database (CHAD) and gets information relevent to  **sleeping** and processes the data for use in the Agent-Based Model of Human Activity Patterns (ABMHAP) for each demographic. More specficially, this file does the following:\n",
    "\n",
    "For a given demographic,\n",
    "\n",
    "1. This function goes through the CHAD data and finds the sleep-activity data\n",
    "\n",
    "2. The CHAD activity data are seperated into start time, end time, duration, and CHAD record data\n",
    "\n",
    "3. The CHAD activity data is saved into longitudinal data and single-activity data"
   ]
  },
  {
   "cell_type": "markdown",
   "metadata": {},
   "source": [
    "Import"
   ]
  },
  {
   "cell_type": "code",
   "execution_count": 1,
   "metadata": {
    "collapsed": true
   },
   "outputs": [],
   "source": [
    "import sys\n",
    "sys.path.append('..\\\\source')\n",
    "\n",
    "# plotting capability\n",
    "import matplotlib.pylab as plt\n",
    "\n",
    "# ABMHAP modules\n",
    "import demography as dmg\n",
    "import my_globals as mg\n",
    "import datum"
   ]
  },
  {
   "cell_type": "code",
   "execution_count": 2,
   "metadata": {
    "collapsed": true
   },
   "outputs": [],
   "source": [
    "%matplotlib notebook"
   ]
  },
  {
   "cell_type": "markdown",
   "metadata": {},
   "source": [
    "Load"
   ]
  },
  {
   "cell_type": "code",
   "execution_count": 19,
   "metadata": {
    "collapsed": true,
    "scrolled": true
   },
   "outputs": [],
   "source": [
    "#\n",
    "# demographic\n",
    "# \n",
    "demo = dmg.CHILD_YOUNG\n",
    "\n",
    "# the input file and output file directory\n",
    "fname_input, fpath_output = dmg.INT_2_FIN_FOUT_LARGE[key]\n",
    "\n",
    "# load the data\n",
    "data = dmg.load(fname_input)"
   ]
  },
  {
   "cell_type": "markdown",
   "metadata": {},
   "source": [
    "Process data"
   ]
  },
  {
   "cell_type": "code",
   "execution_count": null,
   "metadata": {},
   "outputs": [],
   "source": [
    "# analyze the data\n",
    "d_slumber = datum.analyze_sleep(data)"
   ]
  },
  {
   "cell_type": "code",
   "execution_count": 23,
   "metadata": {
    "collapsed": true
   },
   "outputs": [],
   "source": [
    "# get the statistical data\n",
    "d = d_slumber\n",
    "\n",
    "slumber, stats_dt, stats_start, stats_end = d['data'], d['stats_dt'], d['stats_start'], d['stats_end']\n",
    "\n",
    "slumber_we, stats_we_dt, stats_we_start, stats_we_end = \\\n",
    "d['data_weekend'], d['stats_we_dt'], d['stats_we_start'], d['stats_we_end']\n",
    "\n",
    "slumber_wd, stats_wd_dt, stats_wd_start, stats_wd_end = \\\n",
    "d['data_weekday'], d['stats_wd_dt'], d['stats_wd_start'], d['stats_wd_end']"
   ]
  },
  {
   "cell_type": "markdown",
   "metadata": {},
   "source": [
    "save the data"
   ]
  },
  {
   "cell_type": "code",
   "execution_count": 26,
   "metadata": {
    "collapsed": true
   },
   "outputs": [],
   "source": [
    "# the minimum number of activity entries per individual to be considered longitudinal\n",
    "N_long = 2\n",
    "\n",
    "# there is not much longitudinal information of pre-school children\n",
    "if demo in [dmg.CHILD_YOUNG]:\n",
    "    N_long = 1\n",
    "    \n",
    "# choose to save longitudinal data or single-day data    \n",
    "chooser = {True: (N_long, fpath_output + '\\\\longitude'), \n",
    "           False: (1, fpath_output + '\\\\solo'), } \n",
    "\n",
    "# whether to save the longitudinal data (if True) or the single-day data (if False)\n",
    "do_long = True"
   ]
  },
  {
   "cell_type": "code",
   "execution_count": 27,
   "metadata": {
    "collapsed": true
   },
   "outputs": [],
   "source": [
    "# save the and solo data\n",
    "do_save = False\n",
    "\n",
    "if do_save:\n",
    "    \n",
    "    N, fpath = chooser[do_long]\n",
    "    \n",
    "    if do_long:        \n",
    "        data_all = datum.get_longitude(stats_dt, stats_start, stats_end, slumber, N=N)\n",
    "        data_weekend = datum.get_longitude(stats_we_dt, stats_we_start, stats_we_end, slumber_we, N=N)\n",
    "        data_weekday = datum.get_longitude(stats_wd_dt, stats_wd_start, stats_wd_end, slumber_wd, N=N)\n",
    "    else:\n",
    "        data_all = datum.get_solo(stats_dt, stats_start, stats_end, slumber)\n",
    "        data_weekend = datum.get_solo(stats_we_dt, stats_we_start, stats_we_end, slumber_we)\n",
    "        data_weekday = datum.get_solo(stats_wd_dt, stats_wd_start, stats_wd_end, slumber_wd)\n",
    "    \n",
    "    # the directories the data should be saved in    \n",
    "    fpath = fpath + '\\\\sleep'\n",
    "    fpaths = [ fpath + '\\\\all', fpath + '\\\\non_workday', fpath + '\\\\workday' ]\n",
    "        \n",
    "    # the dictionaries holding the data\n",
    "    data_list = [data_all, data_weekend, data_weekday]\n",
    "    \n",
    "    # save the data\n",
    "    for fpath, d in zip(fpaths, data_list):\n",
    "        \n",
    "        stats_dt, stats_start, stats_end, record = d\n",
    "        datum.save(fpath, record=record, stats_dt=stats_dt, stats_start=stats_start, stats_end=stats_end)\n"
   ]
  }
 ],
 "metadata": {
  "kernelspec": {
   "display_name": "Python 3",
   "language": "python",
   "name": "python3"
  },
  "language_info": {
   "codemirror_mode": {
    "name": "ipython",
    "version": 3
   },
   "file_extension": ".py",
   "mimetype": "text/x-python",
   "name": "python",
   "nbconvert_exporter": "python",
   "pygments_lexer": "ipython3",
   "version": "3.5.3"
  }
 },
 "nbformat": 4,
 "nbformat_minor": 1
}
