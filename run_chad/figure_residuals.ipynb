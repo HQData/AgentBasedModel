{
 "cells": [
  {
   "cell_type": "code",
   "execution_count": 28,
   "metadata": {
    "collapsed": true
   },
   "outputs": [],
   "source": [
    "# The United States Environmental Protection Agency through its Office of\n",
    "# Research and Development has developed this software. The code is made\n",
    "# publicly available to better communicate the research. All input data\n",
    "# used fora given application should be reviewed by the researcher so\n",
    "# that the model results are based on appropriate data for any given\n",
    "# application. This model is under continued development. The model and\n",
    "# data included herein do not represent and should not be construed to\n",
    "# represent any Agency determination or policy.\n",
    "#\n",
    "# This file was written by Dr. Namdi Brandon\n",
    "# ORCID: 0000-0001-7050-1538\n",
    "# March 20, 2018"
   ]
  },
  {
   "cell_type": "markdown",
   "metadata": {},
   "source": [
    "This file calculates the residuals in the cumaltive distribution functions (CDFs) for the activities in each demographic.\n",
    "\n",
    "The file calculates the residuals = |cdf_predicted - cdf_observed| as a function of percentile from 0 to 1. Then the mean value for the residual plot is calculated which represents the expected deviation from the data for each percentile"
   ]
  },
  {
   "cell_type": "markdown",
   "metadata": {},
   "source": [
    "Import "
   ]
  },
  {
   "cell_type": "code",
   "execution_count": 13,
   "metadata": {
    "collapsed": true
   },
   "outputs": [],
   "source": [
    "import sys\n",
    "sys.path.append('..\\\\source')\n",
    "sys.path.append('..\\\\processing')\n",
    "sys.path.append('..\\\\plotting')\n",
    "\n",
    "# plotting capability analysis\n",
    "import matplotlib.pylab as plt\n",
    "\n",
    "# math capability\n",
    "import numpy as np\n",
    "\n",
    "# python data compression\n",
    "import pickle\n",
    "\n",
    "# ABMHAP modules\n",
    "import my_globals as mg\n",
    "import chad_demography_adult_work as cdaw\n",
    "import chad_demography_adult_non_work as cdanw\n",
    "import chad_demography_child_school as cdcs\n",
    "import chad_demography_child_young as cdcy\n",
    "import demography as dmg\n",
    "\n",
    "import activity, plotter"
   ]
  },
  {
   "cell_type": "code",
   "execution_count": 14,
   "metadata": {},
   "outputs": [
    {
     "name": "stdout",
     "output_type": "stream",
     "text": [
      "Using matplotlib backend: Qt5Agg\n"
     ]
    }
   ],
   "source": [
    "%matplotlib auto"
   ]
  },
  {
   "cell_type": "markdown",
   "metadata": {},
   "source": [
    "define functions"
   ]
  },
  {
   "cell_type": "code",
   "execution_count": 31,
   "metadata": {
    "collapsed": true
   },
   "outputs": [],
   "source": [
    "def f(data, alpha=0):\n",
    "    \n",
    "    # create the residuals between the prediction (ABMHAP) and observation (CHAD)\n",
    "    # data. Plot the quantiles of the data [alpha, 1 - alpha] percentiles of the data.\n",
    "    \n",
    "    # predicted data and observed data\n",
    "    pred, obs = data\n",
    "    \n",
    "    # the x and y values for the predicted data and observed data\n",
    "    x_pred, y_pred = pred\n",
    "    x_obs, y_obs = obs\n",
    "\n",
    "    # residual\n",
    "    r = np.abs(y_pred - y_obs)\n",
    "    \n",
    "    # the number of data points\n",
    "    m = len(r)\n",
    "    \n",
    "    # the bottom and top percentile\n",
    "    bot, top = alpha/2, 1 - alpha/2\n",
    "    \n",
    "    # get the percentiles within range\n",
    "    x = x_pred\n",
    "    idx = (x >= bot) & (x <= top)\n",
    "        \n",
    "    return x[idx], r[idx]\n",
    "\n",
    "# get the moments\n",
    "def get_moments(x):\n",
    "    \n",
    "    # the mean data\n",
    "    mu = x.mean()\n",
    "    \n",
    "    # the standard deviation data\n",
    "    std = x.std()\n",
    "    \n",
    "    return mu, std\n"
   ]
  },
  {
   "cell_type": "markdown",
   "metadata": {},
   "source": [
    "set up the parameters"
   ]
  },
  {
   "cell_type": "code",
   "execution_count": 16,
   "metadata": {
    "collapsed": true
   },
   "outputs": [],
   "source": [
    "#\n",
    "# choose the deomography\n",
    "#\n",
    "demo = dmg.CHILD_YOUNG\n",
    "\n",
    "chooser = {dmg.ADULT_WORK: cdaw.CHAD_demography_adult_work(),\n",
    "           dmg.ADULT_NON_WORK: cdanw.CHAD_demography_adult_non_work(),\n",
    "           dmg.CHILD_SCHOOL: cdcs.CHAD_demography_child_school(),\n",
    "           dmg.CHILD_YOUNG: cdcy.CHAD_demography_child_young(),\n",
    "           }\n",
    "\n",
    "# the CHAD demogramphy object\n",
    "chad_demo = chooser[demo]\n",
    "\n",
    "# the CHAD sampling parameters\n",
    "s_params = chad_demo.int_2_param"
   ]
  },
  {
   "cell_type": "code",
   "execution_count": 17,
   "metadata": {
    "collapsed": true
   },
   "outputs": [],
   "source": [
    "# save the figures\n",
    "do_save_fig = False\n",
    "\n",
    "# whether or not to show the plots\n",
    "do_show = True\n",
    "\n",
    "# the linewidth\n",
    "linewidth = 1.5"
   ]
  },
  {
   "cell_type": "code",
   "execution_count": 18,
   "metadata": {
    "scrolled": true
   },
   "outputs": [
    {
     "name": "stdout",
     "output_type": "stream",
     "text": [
      "the figure save path:\t..\\my_data\\fig\\12_07_2017\\n8192_d364\\child_young\n"
     ]
    }
   ],
   "source": [
    "# choose the appropriate figure directory\n",
    "fpath = mg.FDIR_SAVE_FIG + '\\\\12_07_2017\\\\n8192_d364'\n",
    "\n",
    "chooser_fin = {dmg.ADULT_WORK: fpath + '\\\\adult_work',\n",
    "       dmg.ADULT_NON_WORK: fpath + '\\\\adult_non_work',\n",
    "       dmg.CHILD_SCHOOL: fpath + '\\\\child_school',\n",
    "       dmg.CHILD_YOUNG: fpath + '\\\\child_young',\n",
    "      }\n",
    "\n",
    "fpath_figure_save = chooser_fin[demo]\n",
    "\n",
    "# print the save figure directory\n",
    "print('the figure save path:\\t%s' % fpath_figure_save)\n",
    "\n",
    "# different sets of activitiy data to plot\n",
    "keys_all = chad_demo.keys\n",
    "\n",
    "# eating activities\n",
    "keys_eat = [mg.KEY_EAT_BREAKFAST, mg.KEY_EAT_LUNCH, mg.KEY_EAT_DINNER]\n",
    "\n",
    "# non eating activities\n",
    "keys_not_eat = [ k for k in keys_all if k not in keys_eat ]"
   ]
  },
  {
   "cell_type": "markdown",
   "metadata": {},
   "source": [
    "Load plotting data"
   ]
  },
  {
   "cell_type": "code",
   "execution_count": 19,
   "metadata": {
    "collapsed": true
   },
   "outputs": [],
   "source": [
    "DO_ALL = 1\n",
    "DO_MEALS = 2\n",
    "DO_NOT_MEALS = 3\n",
    "\n",
    "# (the activites to plot, part of the file name that matches the keys)\n",
    "chooser_keys = { DO_ALL: (keys_all, 'all'), \\\n",
    "                DO_MEALS: (keys_eat, 'meals'),\\\n",
    "                DO_NOT_MEALS: (keys_not_eat, 'not_meals'),\n",
    "               }"
   ]
  },
  {
   "cell_type": "code",
   "execution_count": 20,
   "metadata": {
    "collapsed": true
   },
   "outputs": [],
   "source": [
    "#\n",
    "# set the activities to plot\n",
    "#\n",
    "plot_keys = DO_ALL\n",
    "\n",
    "keys, fname_keys = chooser_keys[plot_keys]\n",
    "name_keys = [ activity.INT_2_STR[k] for k in keys]\n",
    "\n",
    "\n",
    "# labels on the right hand side of the plot\n",
    "ylabels = ['Start Time', 'End Time', 'Duration']"
   ]
  },
  {
   "cell_type": "markdown",
   "metadata": {},
   "source": [
    "Load all data"
   ]
  },
  {
   "cell_type": "code",
   "execution_count": 21,
   "metadata": {},
   "outputs": [],
   "source": [
    "# choose the activities to plot\n",
    "\n",
    "# get the figure directories\n",
    "fpaths = [ (fpath_figure_save + mg.KEY_2_FDIR_SAVE_FIG[k] + mg.FDIR_SAVE_FIG_RANDOM_DAY) for k in keys]\n",
    "\n",
    "# the file name (no file path) of the data to save\n",
    "fname = fpath_figure_save + '\\\\cdf_inv_' + fname_keys + '.png'\n",
    "\n",
    "# file name to load\n",
    "fnames_load = ('\\\\cdf_inv_start.pkl', '\\\\cdf_inv_end.pkl', '\\\\cdf_inv_dt.pkl')\n",
    "\n",
    "# load the data\n",
    "data_list_all, fname_subplot = plotter.get_figure_data(fpaths, fpath_figure_save, fname, fnames_load=fnames_load)"
   ]
  },
  {
   "cell_type": "markdown",
   "metadata": {},
   "source": [
    "Load the data for a specific activity-data"
   ]
  },
  {
   "cell_type": "code",
   "execution_count": 25,
   "metadata": {},
   "outputs": [
    {
     "name": "stdout",
     "output_type": "stream",
     "text": [
      "..\\my_data\\fig\\12_07_2017\\n8192_d364\\child_young\\sleep\\random_day\\cdf_inv_start.pkl\n",
      "..\\my_data\\fig\\12_07_2017\\n8192_d364\\child_young\\sleep\\random_day\\cdf_inv_end.pkl\n",
      "..\\my_data\\fig\\12_07_2017\\n8192_d364\\child_young\\sleep\\random_day\\cdf_inv_dt.pkl\n"
     ]
    }
   ],
   "source": [
    "idx = -1\n",
    "start = data_list_start[idx]\n",
    "end = data_list_end[idx]\n",
    "dt = data_list_dt[idx]\n",
    "\n",
    "f_end = fnames_end[idx]\n",
    "f_start = fnames_start[idx]\n",
    "f_dt = fnames_dt[idx]\n",
    "\n",
    "print(f_start)\n",
    "print(f_end)\n",
    "print(f_dt)"
   ]
  },
  {
   "cell_type": "markdown",
   "metadata": {},
   "source": [
    "plot the residuals"
   ]
  },
  {
   "cell_type": "code",
   "execution_count": 32,
   "metadata": {
    "scrolled": true
   },
   "outputs": [
    {
     "name": "stdout",
     "output_type": "stream",
     "text": [
      "Eat Breakfast\n",
      "mu start: 11.83\t\tstd start: 8.87\n",
      "mu end: 8.20\t\tstd end: 9.31\n",
      "mu dt: 3.79\t\tstd dt: 4.17\n",
      "\n",
      "Eat Lunch\n",
      "mu start: 12.39\t\tstd start: 8.78\n",
      "mu end: 14.46\t\tstd end: 7.60\n",
      "mu dt: 2.10\t\tstd dt: 1.56\n",
      "\n",
      "Eat Dinner\n",
      "mu start: 7.21\t\tstd start: 5.18\n",
      "mu end: 8.86\t\tstd end: 4.73\n",
      "mu dt: 3.24\t\tstd dt: 2.95\n",
      "\n",
      "Sleep\n",
      "mu start: 5.94\t\tstd start: 4.78\n",
      "mu end: 5.88\t\tstd end: 5.57\n",
      "mu dt: 13.44\t\tstd dt: 10.27\n",
      "\n"
     ]
    }
   ],
   "source": [
    "#\n",
    "# plot the residuals\n",
    "#\n",
    "\n",
    "alpha = 0.05\n",
    "plt.close('all')\n",
    "\n",
    "for idx, k in enumerate(keys):\n",
    "    \n",
    "    print( activity.INT_2_STR[k] )\n",
    "    \n",
    "    # load the start time, end time, and duration data\n",
    "    start = data_list_start[idx]\n",
    "    end = data_list_end[idx]\n",
    "    dt = data_list_dt[idx]\n",
    "\n",
    "    # quantile, and residual data\n",
    "    x_start, r_start = f(start, alpha=alpha)\n",
    "    x_end, r_end = f(end, alpha=alpha)\n",
    "    x_dt, r_dt = f(dt, alpha=alpha)\n",
    "\n",
    "    # covert the residuals into minutes\n",
    "    r_start = r_start * 60\n",
    "    r_end = r_end * 60\n",
    "    r_dt = r_dt\n",
    "\n",
    "    # get the moments on the residuals for start time, end time, and duration\n",
    "    mu_start, std_start = get_moments(r_start)\n",
    "    mu_end, std_end = get_moments(r_end)\n",
    "    mu_dt, std_dt = get_moments(r_dt)\n",
    "\n",
    "    print('mu start: %.2f\\t\\tstd start: %.2f' % (mu_start, std_start))\n",
    "    print('mu end: %.2f\\t\\tstd end: %.2f' % (mu_end, std_end))\n",
    "    print('mu dt: %.2f\\t\\tstd dt: %.2f\\n' % (mu_dt, std_dt))\n",
    "    \n",
    "    # create subplots\n",
    "    fig, axes = plt.subplots(3)\n",
    "    \n",
    "    # create title\n",
    "    fig.suptitle( activity.INT_2_STR[k] )\n",
    "\n",
    "    # plot data about start time\n",
    "    ax = axes[0]\n",
    "    ax.plot(x_start, r_start, label='start')\n",
    "    ax.axhline(mu_start, ls='--')\n",
    "    ax.legend(loc='best')\n",
    "\n",
    "    # plot data about end time\n",
    "    ax = axes[1]\n",
    "    ax.plot(x_end, r_end, label='end')\n",
    "    ax.axhline(mu_end, ls='--')\n",
    "    ax.legend(loc='best')\n",
    "\n",
    "    # plot data about duration\n",
    "    ax = axes[2]\n",
    "    ax.plot(x_dt, r_dt, label='dt')\n",
    "    ax.axhline(mu_dt, ls='--')\n",
    "    ax.legend(loc='best')\n",
    "\n",
    "plt.show()"
   ]
  },
  {
   "cell_type": "code",
   "execution_count": null,
   "metadata": {
    "collapsed": true
   },
   "outputs": [],
   "source": []
  },
  {
   "cell_type": "code",
   "execution_count": null,
   "metadata": {
    "collapsed": true
   },
   "outputs": [],
   "source": []
  }
 ],
 "metadata": {
  "kernelspec": {
   "display_name": "Python 3",
   "language": "python",
   "name": "python3"
  },
  "language_info": {
   "codemirror_mode": {
    "name": "ipython",
    "version": 3
   },
   "file_extension": ".py",
   "mimetype": "text/x-python",
   "name": "python",
   "nbconvert_exporter": "python",
   "pygments_lexer": "ipython3",
   "version": "3.5.3"
  }
 },
 "nbformat": 4,
 "nbformat_minor": 1
}
