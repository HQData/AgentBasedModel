{
 "cells": [
  {
   "cell_type": "code",
   "execution_count": 1,
   "metadata": {
    "collapsed": true
   },
   "outputs": [],
   "source": [
    "# The United States Environmental Protection Agency through its Office of\n",
    "# Research and Development has developed this software. The code is made\n",
    "# publicly available to better communicate the research. All input data\n",
    "# used fora given application should be reviewed by the researcher so\n",
    "# that the model results are based on appropriate data for any given\n",
    "# application. This model is under continued development. The model and\n",
    "# data included herein do not represent and should not be construed to\n",
    "# represent any Agency determination or policy.\n",
    "#\n",
    "# This file was written by Dr. Namdi Brandon\n",
    "# ORCID: 0000-0001-7050-1538\n",
    "# March 20, 2018"
   ]
  },
  {
   "cell_type": "markdown",
   "metadata": {},
   "source": [
    "This notebook loads the individual data about the cumuluative distribution functions (CDFs) comaparing the Agent-Based Model of Human Activity Patterns (ABMHAP) results to the Consolidated Human Activity Database (CHAD) data. The plots compare the distribution activity-parameter data from ABMHAP to CHAD. More specifically, the ABMAHP simulation data parameterized with CHAD longitduinal data are comared to the single-day data from CHAD. The following is plotted:\n",
    "1. CDFs of ABMHAP vs. CHAD longitudianl data for activity-parameters\n",
    "2. CDFs of ABMHAP vs CHAD single-day data for activity-parameters\n",
    "3. Inverse CDFs of ABMHAP vs CHAD single-day data for ctivity-parameters\n",
    "4. Residual of the Inverse CDF of ABMHAP vs CHAD single-day data for activity-parameters\n",
    "5. Scaled Residual of the Quantile Functions of ABMHAP vs CHAD single-day data for activity-parameters"
   ]
  },
  {
   "cell_type": "markdown",
   "metadata": {},
   "source": [
    "Import "
   ]
  },
  {
   "cell_type": "code",
   "execution_count": 1,
   "metadata": {
    "collapsed": true
   },
   "outputs": [],
   "source": [
    "import sys\n",
    "sys.path.append('..\\\\source')\n",
    "sys.path.append('..\\\\processing')\n",
    "sys.path.append('..\\\\plotting')\n",
    "\n",
    "# plotting capabilities\n",
    "import matplotlib.pylab as plt\n",
    "import matplotlib.ticker as ticker\n",
    "\n",
    "# math capability\n",
    "import numpy as np\n",
    "\n",
    "# data frame capability\n",
    "import pandas as pd\n",
    "\n",
    "# python pickle capability\n",
    "import pickle\n",
    "\n",
    "# ABMHAP capability \n",
    "import my_globals as mg\n",
    "import chad_demography_adult_work as cdaw\n",
    "import chad_demography_adult_non_work as cdanw\n",
    "import chad_demography_child_school as cdcs\n",
    "import chad_demography_child_young as cdcy\n",
    "import demography as dmg\n",
    "\n",
    "import activity, analyzer, plotter, temporal"
   ]
  },
  {
   "cell_type": "code",
   "execution_count": 2,
   "metadata": {},
   "outputs": [
    {
     "name": "stdout",
     "output_type": "stream",
     "text": [
      "Using matplotlib backend: Qt5Agg\n"
     ]
    }
   ],
   "source": [
    "%matplotlib auto"
   ]
  },
  {
   "cell_type": "markdown",
   "metadata": {},
   "source": [
    "define functions"
   ]
  },
  {
   "cell_type": "code",
   "execution_count": 3,
   "metadata": {
    "collapsed": true
   },
   "outputs": [],
   "source": [
    "def plot_subplots(data_list, do_cdf, main_title, legend, xlabels, ylabels, xunits, yunits, colors, \\\n",
    "                  do_save=False, fname=None, linewidth=1):\n",
    "    \n",
    "    # the dimensions of a maximized figure. Base x Height [pixels]\n",
    "    b_pixels, h_pixels = 2400, 1255\n",
    "    my_dpi = 800\n",
    "    \n",
    "    b_in = b_pixels/my_dpi\n",
    "    h_in = h_pixels/my_dpi\n",
    "    \n",
    "    \n",
    "    # set the figure size for saving to custom if savinig\n",
    "    if do_save:\n",
    "        figsize, dpi = (b_in, h_in), my_dpi        \n",
    "    else:\n",
    "        figsize, dpi = None, None\n",
    "        \n",
    "    # data_list is     \n",
    "    nrows, ncols = 3, len(data_list[0])\n",
    "\n",
    "    if do_cdf:\n",
    "        f, axes = plt.subplots(nrows, ncols, sharey=True, figsize=figsize, dpi=dpi)\n",
    "    else:\n",
    "        f, axes = plt.subplots(nrows, ncols, sharex=True, figsize=figsize, dpi=dpi)\n",
    "\n",
    "   \n",
    "    #\n",
    "    # plot\n",
    "    #\n",
    "    for i , ax in enumerate(f.axes):\n",
    "\n",
    "        # indices\n",
    "        irow = i // ncols\n",
    "        jcol = i % ncols\n",
    "\n",
    "        # plot data\n",
    "        temp = data_list[irow][jcol]\n",
    "        \n",
    "        for t, color in zip(temp, colors):\n",
    "            \n",
    "            x_data, y_data = t            \n",
    "            if do_cdf and irow == 2:\n",
    "                idx = x_data >= 0\n",
    "                ax.plot(x_data[idx], y_data[idx], color=color, linewidth=linewidth)                                \n",
    "            else:\n",
    "                ax.plot(x_data, y_data, color=color, linewidth=linewidth)                                \n",
    "            \n",
    "            #\n",
    "            # set the tick labels\n",
    "            #\n",
    "            ticksize=14\n",
    "            ax.tick_params(axis='both', labelsize=ticksize)\n",
    "            \n",
    "            if irow == 2:\n",
    "                ax.xaxis.set_major_locator(ticker.MaxNLocator(nbins=5))\n",
    "                        \n",
    "            if do_cdf and irow in [0, 1]:\n",
    "                # limit the xaxis to integernumbers\n",
    "                x_all = [x.get_xdata() for x in ax.lines]\n",
    "                x_all = np.hstack(x_all).flatten()\n",
    "                x_min, x_max = np.floor( np.min(x_all) ), np.ceil( np.max(x_all))\n",
    "                dx = abs(x_min - x_max) + 1\n",
    "                nbins = np.ceil(dx/2)\n",
    "                ax.xaxis.set_major_locator(ticker.MaxNLocator(nbins))\n",
    "                \n",
    "                ax.set_xlim(x_min, x_max)\n",
    "                \n",
    "                # set the xticks\n",
    "                # testing\n",
    "                x_min = np.round(x_min).astype(int)\n",
    "                x_max = np.round(x_max).astype(int)\n",
    "                dx = (x_max - x_min) / (5 - 1)                \n",
    "                dx = np.floor(dx).astype(int)\n",
    "                xticks = np.arange(x_min, x_max, dx)\n",
    "                ax.set_xticks(xticks)\n",
    "                \n",
    "            \n",
    "    # main title\n",
    "    fontsize_title = 18\n",
    "    f.suptitle(main_title, fontsize=fontsize_title)\n",
    "\n",
    "    # legend    \n",
    "    f.legend( f.axes[0].lines, legend, 'best')\n",
    "\n",
    "    #\n",
    "    # set the x-axis labels\n",
    "    #    \n",
    "\n",
    "    fontsize_label = 18\n",
    "    for ax, xlabel in zip( axes[nrows-1,:], xlabels) :\n",
    "        ax.set_xlabel(xlabel, fontsize=fontsize_label)                \n",
    "        \n",
    "        if not do_cdf:\n",
    "            x_min, x_max = 0, 1    \n",
    "            ax.set_xlim(x_min, x_max)\n",
    "            xticks = np.linspace(x_min, x_max, 3)\n",
    "            ax.set_xticks(xticks)\n",
    "            ##ax.set_xticks(xticks, fontsize=20)\n",
    "            #ax.set_xticklabels(labels=[], fontsize=20)        \n",
    "        \n",
    "    # set x titles\n",
    "    for ax, key in zip(axes[0,:], keys):\n",
    "        #ax.set_title( activity.INT_2_STR[key], fontsize=fontsize_title )\n",
    "        ax.set_title( activity.INT_2_STR[key], fontsize=14 )\n",
    "        \n",
    "    #\n",
    "    # set the y-axis labels\n",
    "    #\n",
    "    for ax, ylabel in zip(axes[:, ncols-1], ylabels):    \n",
    "        ax.yaxis.set_label_position('right')\n",
    "        ax.set_ylabel(ylabel, fontsize=fontsize_label, rotation=270, labelpad=20)\n",
    "        \n",
    "    for i, ax in enumerate(axes[:,0]):        \n",
    "        ax.yaxis.set_label_position('left')\n",
    "        ax.set_ylabel(yunits[i], fontsize=fontsize_label)\n",
    "        \n",
    "        if do_cdf:\n",
    "            y_min, y_max = 0, 1\n",
    "            ax.set_ylim(y_min, y_max)\n",
    "            \n",
    "    if do_save and (fname is not None):\n",
    "        f.savefig(fname, dpi=my_dpi)    \n",
    "    \n",
    "    return"
   ]
  },
  {
   "cell_type": "markdown",
   "metadata": {},
   "source": [
    "set up the parameters"
   ]
  },
  {
   "cell_type": "code",
   "execution_count": 4,
   "metadata": {
    "collapsed": true
   },
   "outputs": [],
   "source": [
    "#\n",
    "# choose the deomography\n",
    "#\n",
    "demo = dmg.ADULT_NON_WORK\n",
    "\n",
    "chooser = {dmg.ADULT_WORK: cdaw.CHAD_demography_adult_work(),\n",
    "           dmg.ADULT_NON_WORK: cdanw.CHAD_demography_adult_non_work(),\n",
    "           dmg.CHILD_SCHOOL: cdcs.CHAD_demography_child_school(),\n",
    "           dmg.CHILD_YOUNG: cdcy.CHAD_demography_child_young(),\n",
    "           }\n",
    "\n",
    "# the CHAD demogramphy object\n",
    "chad_demo = chooser[demo]\n",
    "\n",
    "# the CHAD sampling parameters\n",
    "s_params = chad_demo.int_2_param"
   ]
  },
  {
   "cell_type": "code",
   "execution_count": 5,
   "metadata": {
    "collapsed": true
   },
   "outputs": [],
   "source": [
    "# save the figures\n",
    "do_save_fig = False\n",
    "\n",
    "# whether or not to show the plots\n",
    "do_show = True\n",
    "\n",
    "# the linewidth\n",
    "linewidth = 0.5"
   ]
  },
  {
   "cell_type": "code",
   "execution_count": 40,
   "metadata": {
    "scrolled": true
   },
   "outputs": [
    {
     "name": "stdout",
     "output_type": "stream",
     "text": [
      "the figure save path:\t..\\my_data\\fig\\01_16_2018_no_variation\\n8192_d007\\adult_non_work\n"
     ]
    }
   ],
   "source": [
    "# use a custom figure directory\n",
    "fpath = mg.FDIR_SAVE_FIG + '\\\\01_16_2018_no_variation\\\\n8192_d007'\n",
    "\n",
    "chooser_fin = {dmg.ADULT_WORK: fpath + '\\\\adult_work',\n",
    "       dmg.ADULT_NON_WORK: fpath + '\\\\adult_non_work',\n",
    "       dmg.CHILD_SCHOOL: fpath + '\\\\child_school',\n",
    "       dmg.CHILD_YOUNG: fpath + '\\\\child_young',\n",
    "      }\n",
    "\n",
    "fpath_figure_save = chooser_fin[demo]\n",
    "\n",
    "# print the save figure directory\n",
    "print('the figure save path:\\t%s' % fpath_figure_save)\n",
    "\n",
    "# different sets of activitiy data to plot\n",
    "keys_all = chad_demo.keys\n",
    "\n",
    "# eating activities\n",
    "keys_eat = [mg.KEY_EAT_BREAKFAST, mg.KEY_EAT_LUNCH, mg.KEY_EAT_DINNER]\n",
    "\n",
    "# non-eating activities\n",
    "keys_not_eat = [ k for k in keys_all if k not in keys_eat ]"
   ]
  },
  {
   "cell_type": "markdown",
   "metadata": {},
   "source": [
    "Plotting"
   ]
  },
  {
   "cell_type": "code",
   "execution_count": 7,
   "metadata": {
    "collapsed": true
   },
   "outputs": [],
   "source": [
    "DO_ALL = 1\n",
    "DO_MEALS = 2\n",
    "DO_NOT_MEALS = 3\n",
    "\n",
    "# (the activites to plot, part of the file name that matches the keys)\n",
    "chooser_keys = { DO_ALL: (keys_all, 'all'), \\\n",
    "                DO_MEALS: (keys_eat, 'meals'),\\\n",
    "                DO_NOT_MEALS: (keys_not_eat, 'not_meals'),\n",
    "               }"
   ]
  },
  {
   "cell_type": "code",
   "execution_count": 8,
   "metadata": {
    "collapsed": true
   },
   "outputs": [],
   "source": [
    "#\n",
    "# set the activities to plot\n",
    "#\n",
    "plot_keys = DO_ALL\n",
    "\n",
    "keys, fname_keys = chooser_keys[plot_keys]\n",
    "name_keys = [ activity.INT_2_STR[k] for k in keys]\n",
    "\n",
    "\n",
    "# labels on the right hand side of the plot\n",
    "ylabels = ['Start Time', 'End Time', 'Duration']"
   ]
  },
  {
   "cell_type": "markdown",
   "metadata": {},
   "source": [
    "Plot CDFs vs Longitudinal data"
   ]
  },
  {
   "cell_type": "markdown",
   "metadata": {},
   "source": [
    "plot verification"
   ]
  },
  {
   "cell_type": "code",
   "execution_count": 9,
   "metadata": {
    "collapsed": true
   },
   "outputs": [],
   "source": [
    "fpaths = analyzer.get_verify_fpath(fpath_figure_save, keys)"
   ]
  },
  {
   "cell_type": "code",
   "execution_count": 10,
   "metadata": {},
   "outputs": [
    {
     "name": "stderr",
     "output_type": "stream",
     "text": [
      "C:\\Users\\nbrandon\\AppData\\Local\\Continuum\\Anaconda3\\lib\\site-packages\\matplotlib\\legend.py:338: UserWarning: Automatic legend placement (loc=\"best\") not implemented for figure legend. Falling back on \"upper right\".\n",
      "  warnings.warn('Automatic legend placement (loc=\"best\") not '\n"
     ]
    }
   ],
   "source": [
    "#\n",
    "# plot the verification cdf\n",
    "#\n",
    "\n",
    "# load the data\n",
    "fname = '\\\\cdf_' + fname_keys + '.png'\n",
    "data_list_all, fname_subplot = plotter.get_figure_data(fpaths, fpath_figure_save, fname)\n",
    "\n",
    "#\n",
    "# plotting parameters\n",
    "#\n",
    "do_cdf = True\n",
    "\n",
    "colors = ['blue', 'red']\n",
    "legend = ['Predicted', 'Means (CHAD)']\n",
    "\n",
    "xunits = 'Hours'\n",
    "yunits = ['Quantile'] * 3\n",
    "\n",
    "main_title = 'CDFs of Activity-parameters'\n",
    "\n",
    "xlabels = [xunits] * len(keys)\n",
    "\n",
    "# \n",
    "# plot\n",
    "#\n",
    "\n",
    "plot_subplots(data_list=data_list_all, do_cdf=do_cdf, main_title=main_title, legend=legend, \\\n",
    "                  xlabels=xlabels, ylabels=ylabels, xunits=xunits, yunits=yunits, colors=colors, \\\n",
    "                  do_save=do_save_fig, fname=fname_subplot, linewidth=linewidth)\n",
    "\n",
    "if do_show:\n",
    "    plt.show()\n",
    "else:\n",
    "    plt.close()"
   ]
  },
  {
   "cell_type": "markdown",
   "metadata": {},
   "source": [
    "Plot CDFs vs random days"
   ]
  },
  {
   "cell_type": "code",
   "execution_count": 32,
   "metadata": {
    "collapsed": true
   },
   "outputs": [],
   "source": [
    "# choose the activities to plot\n",
    "# get the figure directories\n",
    "fpaths = [ (fpath_figure_save + mg.KEY_2_FDIR_SAVE_FIG[k] + mg.FDIR_SAVE_FIG_RANDOM_DAY) for k in keys]"
   ]
  },
  {
   "cell_type": "markdown",
   "metadata": {},
   "source": [
    "plot the cdf"
   ]
  },
  {
   "cell_type": "code",
   "execution_count": 34,
   "metadata": {},
   "outputs": [
    {
     "name": "stderr",
     "output_type": "stream",
     "text": [
      "C:\\Users\\nbrandon\\AppData\\Local\\Continuum\\Anaconda3\\lib\\site-packages\\matplotlib\\legend.py:338: UserWarning: Automatic legend placement (loc=\"best\") not implemented for figure legend. Falling back on \"upper right\".\n",
      "  warnings.warn('Automatic legend placement (loc=\"best\") not '\n"
     ]
    }
   ],
   "source": [
    "#\n",
    "# plot the CDF\n",
    "#\n",
    "\n",
    "fname = '\\\\cdf_' + fname_keys + '.png'\n",
    "fnames_load = ('\\\\cdf_start.pkl', '\\\\cdf_end.pkl', '\\\\cdf_dt.pkl')\n",
    "\n",
    "# load the data\n",
    "data_list_all, fname_subplot = plotter.get_figure_data(fpaths, fpath_figure_save, fname, fnames_load=fnames_load)\n",
    "\n",
    "#\n",
    "# plotting parameters\n",
    "#\n",
    "do_cdf = True\n",
    "\n",
    "colors = ['blue', 'red']\n",
    "legend = ['Predicted', 'Observed']\n",
    "\n",
    "xunits = 'Hours'\n",
    "yunits = ['Quantile'] * 3\n",
    "\n",
    "main_title = 'CDFs of Activity-parameters'\n",
    "\n",
    "xlabels = [xunits] * len(keys)\n",
    "\n",
    "# \n",
    "# plot\n",
    "#\n",
    "\n",
    "plot_subplots(data_list=data_list_all, do_cdf=do_cdf, main_title=main_title, legend=legend, \\\n",
    "                  xlabels=xlabels, ylabels=ylabels, xunits=xunits, yunits=yunits, colors=colors, \\\n",
    "                  do_save=do_save_fig, fname=fname_subplot, linewidth=linewidth)\n",
    "\n",
    "if do_show:\n",
    "    plt.show()\n",
    "else:\n",
    "    plt.close()"
   ]
  },
  {
   "cell_type": "markdown",
   "metadata": {},
   "source": [
    "Plot the Inverse CDF"
   ]
  },
  {
   "cell_type": "code",
   "execution_count": 39,
   "metadata": {},
   "outputs": [
    {
     "name": "stderr",
     "output_type": "stream",
     "text": [
      "C:\\Users\\nbrandon\\AppData\\Local\\Continuum\\Anaconda3\\lib\\site-packages\\ipykernel_launcher.py:73: RuntimeWarning: divide by zero encountered in long_scalars\n"
     ]
    },
    {
     "ename": "ValueError",
     "evalue": "Maximum allowed size exceeded",
     "output_type": "error",
     "traceback": [
      "\u001b[1;31m---------------------------------------------------------------------------\u001b[0m",
      "\u001b[1;31mValueError\u001b[0m                                Traceback (most recent call last)",
      "\u001b[1;32m<ipython-input-39-2c25156c1693>\u001b[0m in \u001b[0;36m<module>\u001b[1;34m()\u001b[0m\n\u001b[0;32m     28\u001b[0m \u001b[1;31m#\u001b[0m\u001b[1;33m\u001b[0m\u001b[1;33m\u001b[0m\u001b[0m\n\u001b[0;32m     29\u001b[0m \u001b[1;33m\u001b[0m\u001b[0m\n\u001b[1;32m---> 30\u001b[1;33m \u001b[0mplot_subplots\u001b[0m\u001b[1;33m(\u001b[0m\u001b[0mdata_list\u001b[0m\u001b[1;33m=\u001b[0m\u001b[0mdata_list_all\u001b[0m\u001b[1;33m,\u001b[0m \u001b[0mdo_cdf\u001b[0m\u001b[1;33m=\u001b[0m\u001b[0mdo_cdf\u001b[0m\u001b[1;33m,\u001b[0m \u001b[0mmain_title\u001b[0m\u001b[1;33m=\u001b[0m\u001b[0mmain_title\u001b[0m\u001b[1;33m,\u001b[0m \u001b[0mlegend\u001b[0m\u001b[1;33m=\u001b[0m\u001b[0mlegend\u001b[0m\u001b[1;33m,\u001b[0m                   \u001b[0mxlabels\u001b[0m\u001b[1;33m=\u001b[0m\u001b[0mxlabels\u001b[0m\u001b[1;33m,\u001b[0m \u001b[0mylabels\u001b[0m\u001b[1;33m=\u001b[0m\u001b[0mylabels\u001b[0m\u001b[1;33m,\u001b[0m \u001b[0mxunits\u001b[0m\u001b[1;33m=\u001b[0m\u001b[0mxunits\u001b[0m\u001b[1;33m,\u001b[0m \u001b[0myunits\u001b[0m\u001b[1;33m=\u001b[0m\u001b[0myunits\u001b[0m\u001b[1;33m,\u001b[0m \u001b[0mcolors\u001b[0m\u001b[1;33m=\u001b[0m\u001b[0mcolors\u001b[0m\u001b[1;33m,\u001b[0m                   \u001b[0mdo_save\u001b[0m\u001b[1;33m=\u001b[0m\u001b[0mdo_save_fig\u001b[0m\u001b[1;33m,\u001b[0m \u001b[0mfname\u001b[0m\u001b[1;33m=\u001b[0m\u001b[0mfname_subplot\u001b[0m\u001b[1;33m,\u001b[0m \u001b[0mlinewidth\u001b[0m\u001b[1;33m=\u001b[0m\u001b[0mlinewidth\u001b[0m\u001b[1;33m)\u001b[0m\u001b[1;33m\u001b[0m\u001b[0m\n\u001b[0m\u001b[0;32m     31\u001b[0m \u001b[1;33m\u001b[0m\u001b[0m\n\u001b[0;32m     32\u001b[0m \u001b[1;32mif\u001b[0m \u001b[0mdo_show\u001b[0m\u001b[1;33m:\u001b[0m\u001b[1;33m\u001b[0m\u001b[0m\n",
      "\u001b[1;32m<ipython-input-3-8a15175d88ba>\u001b[0m in \u001b[0;36mplot_subplots\u001b[1;34m(data_list, do_cdf, main_title, legend, xlabels, ylabels, xunits, yunits, colors, do_save, fname, linewidth)\u001b[0m\n\u001b[0;32m     71\u001b[0m                 \u001b[0mdx\u001b[0m \u001b[1;33m=\u001b[0m \u001b[1;33m(\u001b[0m\u001b[0mx_max\u001b[0m \u001b[1;33m-\u001b[0m \u001b[0mx_min\u001b[0m\u001b[1;33m)\u001b[0m \u001b[1;33m/\u001b[0m \u001b[1;33m(\u001b[0m\u001b[1;36m5\u001b[0m \u001b[1;33m-\u001b[0m \u001b[1;36m1\u001b[0m\u001b[1;33m)\u001b[0m\u001b[1;33m\u001b[0m\u001b[0m\n\u001b[0;32m     72\u001b[0m                 \u001b[0mdx\u001b[0m \u001b[1;33m=\u001b[0m \u001b[0mnp\u001b[0m\u001b[1;33m.\u001b[0m\u001b[0mfloor\u001b[0m\u001b[1;33m(\u001b[0m\u001b[0mdx\u001b[0m\u001b[1;33m)\u001b[0m\u001b[1;33m.\u001b[0m\u001b[0mastype\u001b[0m\u001b[1;33m(\u001b[0m\u001b[0mint\u001b[0m\u001b[1;33m)\u001b[0m\u001b[1;33m\u001b[0m\u001b[0m\n\u001b[1;32m---> 73\u001b[1;33m                 \u001b[0mxticks\u001b[0m \u001b[1;33m=\u001b[0m \u001b[0mnp\u001b[0m\u001b[1;33m.\u001b[0m\u001b[0marange\u001b[0m\u001b[1;33m(\u001b[0m\u001b[0mx_min\u001b[0m\u001b[1;33m,\u001b[0m \u001b[0mx_max\u001b[0m\u001b[1;33m,\u001b[0m \u001b[0mdx\u001b[0m\u001b[1;33m)\u001b[0m\u001b[1;33m\u001b[0m\u001b[0m\n\u001b[0m\u001b[0;32m     74\u001b[0m                 \u001b[0max\u001b[0m\u001b[1;33m.\u001b[0m\u001b[0mset_xticks\u001b[0m\u001b[1;33m(\u001b[0m\u001b[0mxticks\u001b[0m\u001b[1;33m)\u001b[0m\u001b[1;33m\u001b[0m\u001b[0m\n\u001b[0;32m     75\u001b[0m \u001b[1;33m\u001b[0m\u001b[0m\n",
      "\u001b[1;31mValueError\u001b[0m: Maximum allowed size exceeded"
     ]
    }
   ],
   "source": [
    "#\n",
    "# plot the Inverse CDF\n",
    "#\n",
    "\n",
    "fname = '\\\\cdf_inv_' + fname_keys + '.png'\n",
    "fnames_load = ('\\\\cdf_inv_start.pkl', '\\\\cdf_inv_end.pkl', '\\\\cdf_inv_dt.pkl')\n",
    "\n",
    "# load the data \n",
    "data_list_all, fname_subplot = plotter.get_figure_data(fpaths, fpath_figure_save, fname, fnames_load=fnames_load)\n",
    "\n",
    "#\n",
    "# plotting parameters\n",
    "#\n",
    "do_cdf = True\n",
    "\n",
    "colors = ['blue', 'red']\n",
    "legend = ['Predicted', 'Observed']\n",
    "\n",
    "xunits = 'Hours'\n",
    "yunits = ['Quantile'] * 3\n",
    "\n",
    "main_title = 'Inverse CDFs of Activity-parameters'\n",
    "\n",
    "xlabels = [xunits] * len(keys)\n",
    "\n",
    "# \n",
    "# plot\n",
    "#\n",
    "\n",
    "plot_subplots(data_list=data_list_all, do_cdf=do_cdf, main_title=main_title, legend=legend, \\\n",
    "                  xlabels=xlabels, ylabels=ylabels, xunits=xunits, yunits=yunits, colors=colors, \\\n",
    "                  do_save=do_save_fig, fname=fname_subplot, linewidth=linewidth)\n",
    "\n",
    "if do_show:\n",
    "    plt.show()\n",
    "else:\n",
    "    plt.close()"
   ]
  },
  {
   "cell_type": "markdown",
   "metadata": {},
   "source": [
    "plot residuals"
   ]
  },
  {
   "cell_type": "code",
   "execution_count": 37,
   "metadata": {},
   "outputs": [
    {
     "name": "stderr",
     "output_type": "stream",
     "text": [
      "C:\\Users\\nbrandon\\AppData\\Local\\Continuum\\Anaconda3\\lib\\site-packages\\matplotlib\\legend.py:338: UserWarning: Automatic legend placement (loc=\"best\") not implemented for figure legend. Falling back on \"upper right\".\n",
      "  warnings.warn('Automatic legend placement (loc=\"best\") not '\n"
     ]
    }
   ],
   "source": [
    "#\n",
    "# plot the residuals ICDF\n",
    "#\n",
    "\n",
    "\n",
    "# recall that the residuals should be multiplied by -1\n",
    "fname = '\\\\res_inv_' + fname_keys + '.png'\n",
    "fnames_load = ('\\\\res_inv_start.pkl', '\\\\res_inv_end.pkl', '\\\\res_inv_dt.pkl')\n",
    "\n",
    "data_list_all, fname_subplot = plotter.get_figure_data(fpaths, fpath_figure_save, fname, fnames_load=fnames_load)\n",
    "#\n",
    "# plotting parameters\n",
    "#\n",
    "\n",
    "# residual plot (inverse CDF)\n",
    "do_cdf = False\n",
    "legend = ['Residual']\n",
    "colors = ['Red']\n",
    "\n",
    "xunits = 'Quantile'\n",
    "yunits = ['Hours', 'Hours', 'Minutes']\n",
    "\n",
    "main_title = 'Residual of the Inverse CDF'\n",
    "\n",
    "xlabels = [xunits] * len(keys)\n",
    "\n",
    "#\n",
    "# plot the data\n",
    "#\n",
    "plot_subplots(data_list=data_list_all, do_cdf=do_cdf, main_title=main_title, legend=legend, \\\n",
    "                  xlabels=xlabels, ylabels=ylabels, xunits=xunits, yunits=yunits, colors=colors, \\\n",
    "                  do_save=do_save_fig, fname=fname_subplot, linewidth=linewidth)\n",
    "\n",
    "if do_show:\n",
    "    plt.show()\n",
    "else:\n",
    "    plt.close()"
   ]
  },
  {
   "cell_type": "markdown",
   "metadata": {},
   "source": [
    "plot the scaled residuals"
   ]
  },
  {
   "cell_type": "code",
   "execution_count": 38,
   "metadata": {},
   "outputs": [
    {
     "name": "stderr",
     "output_type": "stream",
     "text": [
      "C:\\Users\\nbrandon\\AppData\\Local\\Continuum\\Anaconda3\\lib\\site-packages\\matplotlib\\legend.py:338: UserWarning: Automatic legend placement (loc=\"best\") not implemented for figure legend. Falling back on \"upper right\".\n",
      "  warnings.warn('Automatic legend placement (loc=\"best\") not '\n"
     ]
    }
   ],
   "source": [
    "#\n",
    "# plot the residuals ICDF scaled\n",
    "#\n",
    "\n",
    "# recall that the residuals should be multiplied by -1\n",
    "fnames = '\\\\res_inv_scaled' + fname_keys + '.png'\n",
    "\n",
    "fnames_load = ('\\\\res_inv_scaled_start.pkl', '\\\\res_inv_scaled_end.pkl', \\\n",
    "               '\\\\res_inv_scaled_dt.pkl')\n",
    "\n",
    "data_list_all, fname_subplot = plotter.get_figure_data(fpaths, fpath_figure_save, fname, fnames_load=fnames_load)\n",
    "\n",
    "#\n",
    "# plotting parameters\n",
    "#Q\n",
    "do_cdf = False\n",
    "\n",
    "legend = ['Residual']\n",
    "colors = ['Red']\n",
    "xunits = 'Quantitle'\n",
    "yunits = ['Standard Deviations'] * 3\n",
    "\n",
    "main_title = 'Scaled Residual of the Quantile Functions'\n",
    "\n",
    "xlabels = [xunits] * len(keys)\n",
    "\n",
    "#\n",
    "# plot the data\n",
    "#\n",
    "\n",
    "plot_subplots(data_list=data_list_all, do_cdf=do_cdf, main_title=main_title, legend=legend, \\\n",
    "                  xlabels=xlabels, ylabels=ylabels, xunits=xunits, yunits=yunits, colors=colors, \\\n",
    "                  do_save=do_save_fig, fname=fname_subplot, linewidth=linewidth)\n",
    "\n",
    "if do_show:\n",
    "    plt.show()\n",
    "else:\n",
    "    plt.close()"
   ]
  },
  {
   "cell_type": "code",
   "execution_count": null,
   "metadata": {
    "collapsed": true
   },
   "outputs": [],
   "source": []
  }
 ],
 "metadata": {
  "kernelspec": {
   "display_name": "Python 3",
   "language": "python",
   "name": "python3"
  },
  "language_info": {
   "codemirror_mode": {
    "name": "ipython",
    "version": 3
   },
   "file_extension": ".py",
   "mimetype": "text/x-python",
   "name": "python",
   "nbconvert_exporter": "python",
   "pygments_lexer": "ipython3",
   "version": "3.5.3"
  }
 },
 "nbformat": 4,
 "nbformat_minor": 1
}
