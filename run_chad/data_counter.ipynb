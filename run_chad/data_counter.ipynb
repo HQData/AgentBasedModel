{
 "cells": [
  {
   "cell_type": "code",
   "execution_count": 2,
   "metadata": {
    "collapsed": true
   },
   "outputs": [],
   "source": [
    "# The United States Environmental Protection Agency through its Office of\n",
    "# Research and Development has developed this software. The code is made\n",
    "# publicly available to better communicate the research. All input data\n",
    "# used fora given application should be reviewed by the researcher so\n",
    "# that the model results are based on appropriate data for any given\n",
    "# application. This model is under continued development. The model and\n",
    "# data included herein do not represent and should not be construed to\n",
    "# represent any Agency determination or policy.\n",
    "#\n",
    "# This file was written by Dr. Namdi Brandon\n",
    "# ORCID: 0000-0001-7050-1538\n",
    "# March 20, 2018"
   ]
  },
  {
   "cell_type": "markdown",
   "metadata": {},
   "source": [
    "This file loads the activity-data assigned with each activity for the respective demographic group. For each activity, then the file counts the amount of Consolidated Human Acitivyt Databse (CHAD) individuals from both the single day and the longitudinal entries."
   ]
  },
  {
   "cell_type": "markdown",
   "metadata": {},
   "source": [
    "Import"
   ]
  },
  {
   "cell_type": "code",
   "execution_count": 3,
   "metadata": {
    "collapsed": true
   },
   "outputs": [],
   "source": [
    "import os, sys\n",
    "sys.path.append('..\\\\source')\n",
    "sys.path.append('..\\\\processing')\n",
    "\n",
    "# plotting capability\n",
    "import matplotlib.pylab as plt\n",
    "\n",
    "# data frame capability\n",
    "import pandas as pd\n",
    "\n",
    "# zipfile capability\n",
    "import zipfile\n",
    "\n",
    "# ABMHAP capability \n",
    "import my_globals as mg\n",
    "import chad_demography_adult_non_work as cdanw\n",
    "import chad_demography_adult_work as cdaw\n",
    "import chad_demography_child_school as cdcs\n",
    "import chad_demography_child_young as cdcy\n",
    "import demography as dmg\n",
    "\n",
    "import activity, chad, datum"
   ]
  },
  {
   "cell_type": "code",
   "execution_count": 4,
   "metadata": {},
   "outputs": [
    {
     "name": "stdout",
     "output_type": "stream",
     "text": [
      "Using matplotlib backend: Qt5Agg\n"
     ]
    }
   ],
   "source": [
    "%matplotlib auto"
   ]
  },
  {
   "cell_type": "markdown",
   "metadata": {},
   "source": [
    "Functions"
   ]
  },
  {
   "cell_type": "code",
   "execution_count": 5,
   "metadata": {
    "collapsed": true
   },
   "outputs": [],
   "source": [
    "def load_data(z, fnames):\n",
    "    \n",
    "    \"\"\"\n",
    "    This function loads the activity parameter data (start time, end time, \\\n",
    "    duration, and CHAD records) for an activity for the demographic.\n",
    "    \n",
    "    :param zipfile.Zipfile z: the ZipFile object for a given demographic group\n",
    "    :param fnames: the file names for CHAD activity-moments data\n",
    "    :type fnames: dict mapping int to str\n",
    "    \n",
    "    :return: the start time, end time, duration, and record data for a \\\n",
    "    given activity\n",
    "    :rtype: numpy.ndarray, numpy.ndarray, numpy.ndarray, numpy.ndarray\n",
    "    \"\"\"\n",
    "    \n",
    "    start = pd.read_csv( z.open( fnames[chad.START], mode='r' ) )\n",
    "    end = pd.read_csv( z.open( fnames[chad.END], mode='r' ) )\n",
    "    dt = pd.read_csv( z.open( fnames[chad.DT], mode='r' ) )\n",
    "    record = pd.read_csv( z.open( fnames[chad.RECORD], mode='r' ) )\n",
    "    \n",
    "    return start, end, dt, record\n",
    "\n",
    "def filter_data(df, the_filter, start_periodic=False, end_periodic=False):\n",
    "    \n",
    "    \"\"\"\n",
    "    This function takes CHAD data for an activity and filters the CHAD data \\\n",
    "    the satisfy the sampling parameters. This function returns the CHAD data \\\n",
    "    suitable for use in parameterizing ABMHAP.\n",
    "    \n",
    "    :param pandas.core.frame.DataFrame df: the record data for a given activity\n",
    "    :param the_filter: for a given activity code, get the respective parameters \\\n",
    "    for sampling CHAD data    \n",
    "    :type the_filter: dict mapping int to :class:`chad_params.CHAD_params`\n",
    "    :param bool start_periodic: whether (if True) or not (if False) the start \\\n",
    "    time should be in a [-12, 12) format\n",
    "    :param bool end_periodic: whether (if True) or not (if False) the end \\\n",
    "    time should be in a [-12, 12) format\n",
    "    \n",
    "    :return: the CHAD data that satisfy the sampling parameters for the following:\n",
    "    start time moments, end time moments, duration momments, and records \n",
    "    :rtype: pandas.core.frame.DataFrame, pandas.core.frame.DataFrame, \\\n",
    "    pandas.core.frame.DataFrame, pandas.core.frame.DataFrame\n",
    "    \"\"\"\n",
    "        \n",
    "    # the_filter are the sampling paramters for the activity\n",
    "    \n",
    "    # the start time and end time data\n",
    "    x_start, x_end = df.start, df.end\n",
    "    \n",
    "    # change the start time data to a [-12, 12) format\n",
    "    if start_periodic:\n",
    "        x_start = mg.to_periodic(x_start, do_hours=True)\n",
    "    \n",
    "    # change the start time data to a [-12, 12) format\n",
    "    if end_periodic:\n",
    "        x_end = mg.to_periodic(x_end, do_hours=True)\n",
    "    \n",
    "    # the indices that satisfy the requirements for mean start time, end time, and \n",
    "    # and duration respectively\n",
    "    idx = ( x_start >= the_filter.start_mean_min ) & ( x_start <= the_filter.start_mean_max ) \\\n",
    "    & ( df.end >= the_filter.end_mean_min ) & ( df.end <= the_filter.end_mean_max ) \\\n",
    "    & ( df.dt >= the_filter.dt_mean_min ) & ( df.dt <= the_filter.dt_mean_max ) \n",
    "\n",
    "    # get the record data that satisfy the proper sampling ranges\n",
    "    record = df[idx]\n",
    "    \n",
    "    # the personal identifier values within the CHAD data\n",
    "    pid = record.PID.values\n",
    "    \n",
    "    # obtain the duraation, start time, and end time values from the filtered CHAD records\n",
    "    dt, start, end = record.dt.values, record.start.values, record.end.values\n",
    "\n",
    "    # the CHAD data that satisfy the sampling parameters for the start time moments\n",
    "    stats_start = datum.get_stats(pid, start, do_periodic=start_periodic)\n",
    "    \n",
    "    # the CHAD data that satisfy the sampling parameters for the end time moments\n",
    "    stats_end   = datum.get_stats(pid, end, do_periodic=start_periodic)\n",
    "    \n",
    "    # the CHAD data that satisfy the sampling parameters for the duration moments\n",
    "    stats_dt    = datum.get_stats(pid, dt)\n",
    "    \n",
    "    return stats_start, stats_end, stats_dt, record\n",
    "\n",
    "def get_activity_data(z, fnames, the_filter, start_periodic=False, end_periodic=False):\n",
    "    \n",
    "    \"\"\"\n",
    "    This function loads CHAD data for an activity and filters the CHAD data \\\n",
    "    the satisfy the sampling parameters. This function returns the CHAD data \\\n",
    "    suitable for use in parameterizing ABMHAP.\n",
    "    \n",
    "    :param zipfile.Zipfile z: the ZipFile object for a given demographic group\n",
    "    :param fnames: the file names for CHAD activity-moments data\n",
    "    :type fnames: dict mapping int to str\n",
    "    :param the_filter: for a given activity code, get the respective parameters \\\n",
    "    for sampling CHAD data    \n",
    "    :type the_filter: dict mapping int to :class:`chad_params.CHAD_params`\n",
    "    :param bool start_periodic: whether (if True) or not (if False) the start \\\n",
    "    time should be in a [-12, 12) format\n",
    "    :param bool end_periodic: whether (if True) or not (if False) the end \\\n",
    "    time should be in a [-12, 12) format\n",
    "    \n",
    "    :return: the CHAD data that satisfy the sampling parameters for the following:\n",
    "    start time moments, end time moments, duration momments, and records \n",
    "    :rtype: pandas.core.frame.DataFrame, pandas.core.frame.DataFrame, \\\n",
    "    pandas.core.frame.DataFrame, pandas.core.frame.DataFrame\n",
    "    \"\"\"\n",
    "    \n",
    "    # get the longitudinal data\n",
    "    start, end, dt, record = load_data(z, fnames)\n",
    "       \n",
    "    # filter the records and get the moments \n",
    "    stats_start, stats_end, stats_dt, record = \\\n",
    "    filter_data(record, the_filter, start_periodic=start_periodic, end_periodic=end_periodic)\n",
    "    \n",
    "    return stats_start, stats_end, stats_dt, record\n",
    "\n",
    "def get_fnames(demo, k, do_long):\n",
    "    \n",
    "    \"\"\"\n",
    "    For a demographic, this function obtains the file names of the \\\n",
    "    activity data for longitudinal or single-day data.\n",
    "    \n",
    "    :param demography.Demography demo: the demographic of choice to access the CHAD data\n",
    "    :param int k: the activity code\n",
    "    :param bool do_long: whether (if True) to load the longitduinal data. If not (False), \\\n",
    "    load the single-day data.\n",
    "    \n",
    "    :return: the file names for CHAD activity-moments data for longitudinal data \\\n",
    "    or single-day data\n",
    "    :rtype: dict of int to str   \n",
    "    \"\"\"\n",
    "    \n",
    "    # get the file names of the longitudinal data\n",
    "    fnames = demo.fname_stats[k]\n",
    "    \n",
    "    if not do_long:\n",
    "        # get the file names of the single-day data\n",
    "        x = [ ( key, value.replace('longitude', 'solo') ) for key, value in fnames.items() ]\n",
    "        fnames = dict( x )    \n",
    "        \n",
    "    return fnames\n",
    "\n",
    "def plot(data, ax, label):\n",
    "    \n",
    "    \"\"\"\n",
    "    This function gets data and plots the empiricial cumulative dsitribution \\\n",
    "    function (CDF) of the data.\n",
    "    \n",
    "    :param numpy.ndarray data: the data to create a CDF of\n",
    "    :param matplotlib.axes._subplots.AxesSubplot ax: the subplot that's plotting\n",
    "    :param str label: the label for the data\n",
    "    \"\"\"\n",
    "    \n",
    "    # get an empiricial CDF based on the data\n",
    "    x, y = mg.get_ecdf(data)\n",
    "   \n",
    "    # plot the CDF\n",
    "    ax.plot(x, y, label=label)\n",
    "    \n",
    "    # show legend\n",
    "    ax.legend(loc='best')\n",
    "    \n",
    "    return"
   ]
  },
  {
   "cell_type": "markdown",
   "metadata": {},
   "source": [
    "Run"
   ]
  },
  {
   "cell_type": "markdown",
   "metadata": {},
   "source": [
    "Load data via demographic"
   ]
  },
  {
   "cell_type": "code",
   "execution_count": 6,
   "metadata": {
    "collapsed": true
   },
   "outputs": [],
   "source": [
    "# map a demographic type to the respective CHAD_demography object\n",
    "chooser = {dmg.ADULT_WORK: cdaw.CHAD_demography_adult_work(),\n",
    "           dmg.ADULT_NON_WORK: cdanw.CHAD_demography_adult_non_work(), \n",
    "           dmg.CHILD_SCHOOL: cdcs.CHAD_demography_child_school(), \n",
    "           dmg.CHILD_YOUNG: cdcy.CHAD_demography_child_young()}"
   ]
  },
  {
   "cell_type": "code",
   "execution_count": 8,
   "metadata": {
    "collapsed": true
   },
   "outputs": [],
   "source": [
    "# choose the demography\n",
    "demo_type = dmg.CHILD_SCHOOL\n",
    "\n",
    "# get the name of the compressed data file\n",
    "fname_zip = dmg.FNAME_DEMOGRAPHY[demo_type]\n",
    "\n",
    "# create the ZipFile object for the respective demographic group\n",
    "z = zipfile.ZipFile( fname_zip )\n",
    "\n",
    "# set the demographic object\n",
    "demo = chooser[demo_type]\n",
    "\n",
    "# store all of the activity-keys for the demographic\n",
    "keys = demo.keys\n",
    "\n",
    "# print flag\n",
    "do_print = False"
   ]
  },
  {
   "cell_type": "markdown",
   "metadata": {},
   "source": [
    "Count the number of CHAD persons for each activity"
   ]
  },
  {
   "cell_type": "code",
   "execution_count": 9,
   "metadata": {},
   "outputs": [
    {
     "name": "stderr",
     "output_type": "stream",
     "text": [
      "..\\processing\\datum.py:689: RuntimeWarning: invalid value encountered in double_scalars\n",
      "  cv  = std / np.abs(mu)\n",
      "..\\processing\\datum.py:689: RuntimeWarning: divide by zero encountered in double_scalars\n",
      "  cv  = std / np.abs(mu)\n"
     ]
    }
   ],
   "source": [
    "# if true, count the number of people with longitudinal data (at least 2 entries)\n",
    "# if false, count the number of people with single data (only 1 entry)\n",
    "do_long = True\n",
    "\n",
    "\n",
    "# for each activity in the demographic, count the amount of data\n",
    "for k in keys:\n",
    "    \n",
    "    # set whether to set the time to periodic time [-12, 12) hours instead of [0, 24) hours\n",
    "    do_periodic = False\n",
    "    if k == mg.KEY_SLEEP:\n",
    "        do_periodic = True\n",
    "        \n",
    "    # sampling / filtering params\n",
    "    the_filter = demo.int_2_param[k]\n",
    "    \n",
    "    # get the names of the statistics files\n",
    "    fnames = get_fnames(demo, k, do_long)    \n",
    "        \n",
    "    # load and filter data fitting for the demographic\n",
    "    start, end, dt, record = get_activity_data(z, fnames, the_filter, start_periodic=do_periodic)    \n",
    "    \n",
    "    # print the activity\n",
    "    if do_print:\n",
    "        print( activity.INT_2_STR[k] )\n",
    "    \n",
    "        # count the number of longitudinal or single-day data, respectively\n",
    "        if do_long:\n",
    "            print( start[start.N > 1].shape)\n",
    "        else:\n",
    "            print( start[start.N == 1].shape)"
   ]
  },
  {
   "cell_type": "markdown",
   "metadata": {},
   "source": [
    "Plot the data"
   ]
  },
  {
   "cell_type": "code",
   "execution_count": 7,
   "metadata": {
    "collapsed": true
   },
   "outputs": [],
   "source": [
    "# create the subplots\n",
    "fig, axes = plt.subplots(3)\n",
    "\n",
    "# the title\n",
    "fig.suptitle(activity.INT_2_STR[k])\n",
    "\n",
    "#\n",
    "# plot the start time data\n",
    "#\n",
    "\n",
    "# select the subplot\n",
    "ax = axes[0]\n",
    "\n",
    "# the start time data\n",
    "plot(start.mu.values, ax, 'start')\n",
    "\n",
    "#\n",
    "# plot the end time data\n",
    "#\n",
    "\n",
    "# select the subplot\n",
    "ax = axes[1]\n",
    "\n",
    "# the end time data\n",
    "plot(end.mu.values, ax, 'end')\n",
    "\n",
    "#\n",
    "# plot the duration data\n",
    "#\n",
    "\n",
    "# select the subplot\n",
    "ax = axes[2]\n",
    "\n",
    "# the duration data\n",
    "plot(dt.mu.values, ax, 'duration')\n",
    "\n",
    "# show plots\n",
    "plt.show()"
   ]
  },
  {
   "cell_type": "code",
   "execution_count": null,
   "metadata": {
    "collapsed": true
   },
   "outputs": [],
   "source": []
  }
 ],
 "metadata": {
  "kernelspec": {
   "display_name": "Python 3",
   "language": "python",
   "name": "python3"
  },
  "language_info": {
   "codemirror_mode": {
    "name": "ipython",
    "version": 3
   },
   "file_extension": ".py",
   "mimetype": "text/x-python",
   "name": "python",
   "nbconvert_exporter": "python",
   "pygments_lexer": "ipython3",
   "version": "3.5.3"
  }
 },
 "nbformat": 4,
 "nbformat_minor": 1
}
