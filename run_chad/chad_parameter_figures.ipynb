{
 "cells": [
  {
   "cell_type": "code",
   "execution_count": 2,
   "metadata": {
    "collapsed": true
   },
   "outputs": [],
   "source": [
    "# The United States Environmental Protection Agency through its Office of\n",
    "# Research and Development has developed this software. The code is made\n",
    "# publicly available to better communicate the research. All input data\n",
    "# used fora given application should be reviewed by the researcher so\n",
    "# that the model results are based on appropriate data for any given\n",
    "# application. This model is under continued development. The model and\n",
    "# data included herein do not represent and should not be construed to\n",
    "# represent any Agency determination or policy.\n",
    "#\n",
    "# This file was written by Dr. Namdi Brandon\n",
    "# ORCID: 0000-0001-7050-1538\n",
    "# March 20, 2018"
   ]
  },
  {
   "cell_type": "markdown",
   "metadata": {},
   "source": [
    "WARNING:\n",
    "\n",
    "this code may not be useful"
   ]
  },
  {
   "cell_type": "markdown",
   "metadata": {},
   "source": [
    "This code plots the histograms of the distributions being sampled from the CHAD data for each activity."
   ]
  },
  {
   "cell_type": "markdown",
   "metadata": {},
   "source": [
    "Import"
   ]
  },
  {
   "cell_type": "code",
   "execution_count": 4,
   "metadata": {
    "collapsed": true
   },
   "outputs": [],
   "source": [
    "import sys\n",
    "sys.path.append('..\\\\source')\n",
    "sys.path.append('..\\\\processing')\n",
    "\n",
    "# plotting capability\n",
    "import matplotlib.pylab as plt\n",
    "\n",
    "# zipfile capability\n",
    "import zipfile\n",
    "\n",
    "# ABMHAP modules\n",
    "\n",
    "# general capability\n",
    "import my_globals as mg\n",
    "import chad_params as cp\n",
    "import demography as dmg\n",
    "\n",
    "import activity, analysis, chad, omni_trial, params"
   ]
  },
  {
   "cell_type": "markdown",
   "metadata": {},
   "source": [
    "Run"
   ]
  },
  {
   "cell_type": "code",
   "execution_count": 5,
   "metadata": {
    "collapsed": true
   },
   "outputs": [],
   "source": [
    "# the demographic\n",
    "demo = dmg.ADULT_WORK\n",
    "\n",
    "# sets of activities\n",
    "keys_all = mg.KEYS_ACTIVITIES\n",
    "\n",
    "# the activity codes related to not eating\n",
    "keys_not_eat = [mg.KEY_SLEEP, mg.KEY_WORK, mg.KEY_COMMUTE_TO_WORK, mg.KEY_COMMUTE_FROM_WORK]\n",
    "\n",
    "# the activity codes of the eating activities\n",
    "keys_eat = [mg.KEY_EAT_BREAKFAST, mg.KEY_EAT_LUNCH, mg.KEY_EAT_DINNER]\n",
    "\n",
    "# the chosen group of activities\n",
    "keys = keys_all"
   ]
  },
  {
   "cell_type": "markdown",
   "metadata": {},
   "source": [
    "Loop through each activity and plot the histograms of start time, end time, and duration. \n",
    "Note: the limitations for each activity depends on which activity parameters are being sampled"
   ]
  },
  {
   "cell_type": "code",
   "execution_count": 6,
   "metadata": {},
   "outputs": [],
   "source": [
    "# loop through each activity and plot the histograms of start time, end time, and duration\n",
    "# Note: the limitations for each activity depends on which activity parameters are being sampled\n",
    "for k in keys:\n",
    "    \n",
    "    # the CHAD limiting parameters\n",
    "    s_params = cp.OMNI[k]\n",
    "    \n",
    "    # get the data\n",
    "    stats_start, stats_end, stats_dt, record = analysis.get_verification_info(demo=demo, key_activity=k,\n",
    "                                                     sampling_params=[s_params])\n",
    "    # number of the bins\n",
    "    num_bins = 24\n",
    "    \n",
    "    # create subplots\n",
    "    fig, axes = plt.subplots(2, 2)\n",
    "\n",
    "    # title\n",
    "    fig.suptitle( activity.INT_2_STR[k] )\n",
    "    \n",
    "    #\n",
    "    # plot the mean start time distribution\n",
    "    #\n",
    "    ax = axes[0, 0]\n",
    "    if k == mg.KEY_SLEEP:\n",
    "        ax.hist(mg.to_periodic(stats_start.mu.values, do_hours=True), bins=num_bins, color='blue', label='start')\n",
    "    else:\n",
    "        ax.hist(stats_start.mu.values, bins=num_bins, color='blue', label='start')\n",
    "    ax.set_xlabel('hours')\n",
    "    ax.legend(loc='best')\n",
    "                \n",
    "    #\n",
    "    # plot the mean end time distribution\n",
    "    #\n",
    "    ax = axes[0, 1]\n",
    "    ax.hist(stats_end.mu.values, bins=num_bins, color='green', label='end')\n",
    "    ax.set_xlabel('hours')\n",
    "    ax.legend(loc='best')\n",
    "\n",
    "    #\n",
    "    # plot the mean duration distribution\n",
    "    #\n",
    "    ax = axes[1, 0]\n",
    "    ax.hist(stats_dt.mu.values, bins=num_bins, color='red', label='duration')\n",
    "    ax.set_xlabel('hours')\n",
    "    ax.legend(loc='best')\n",
    "\n",
    "# show plots\n",
    "plt.show()"
   ]
  }
 ],
 "metadata": {
  "kernelspec": {
   "display_name": "Python 3",
   "language": "python",
   "name": "python3"
  },
  "language_info": {
   "codemirror_mode": {
    "name": "ipython",
    "version": 3
   },
   "file_extension": ".py",
   "mimetype": "text/x-python",
   "name": "python",
   "nbconvert_exporter": "python",
   "pygments_lexer": "ipython3",
   "version": "3.5.3"
  }
 },
 "nbformat": 4,
 "nbformat_minor": 1
}
