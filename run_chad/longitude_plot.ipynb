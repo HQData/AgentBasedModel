{
 "cells": [
  {
   "cell_type": "code",
   "execution_count": 1,
   "metadata": {
    "collapsed": true
   },
   "outputs": [],
   "source": [
    "# The United States Environmental Protection Agency through its Office of\n",
    "# Research and Development has developed this software. The code is made\n",
    "# publicly available to better communicate the research. All input data\n",
    "# used fora given application should be reviewed by the researcher so\n",
    "# that the model results are based on appropriate data for any given\n",
    "# application. This model is under continued development. The model and\n",
    "# data included herein do not represent and should not be construed to\n",
    "# represent any Agency determination or policy.\n",
    "#\n",
    "# This file was written by Dr. Namdi Brandon\n",
    "# ORCID: 0000-0001-7050-1538\n",
    "# March 20, 2018"
   ]
  },
  {
   "cell_type": "markdown",
   "metadata": {},
   "source": [
    "This module plots the daily activity-duration for each activity over time done by an agent in an Agent-Based Module of Human Activity Patterns (ABMHAP) simulation. An agent representing each demographic are shown in a combined subplot:\n",
    "\n",
    "1. An agent representing a respective demographic has its activity behavior is plotted in a log10 scale over time\n",
    "2. This function plots a histogram showing the amount of times each activity was done in an ABMHAP simulation."
   ]
  },
  {
   "cell_type": "markdown",
   "metadata": {},
   "source": [
    "import"
   ]
  },
  {
   "cell_type": "code",
   "execution_count": 2,
   "metadata": {
    "collapsed": true
   },
   "outputs": [],
   "source": [
    "import os, sys\n",
    "sys.path.append('..\\\\source')\n",
    "sys.path.append('..\\\\processing')\n",
    "sys.path.append('..\\\\plotting')\n",
    "\n",
    "# plotting capability\n",
    "import matplotlib.pylab as plt\n",
    "\n",
    "# math capabilitiy\n",
    "import numpy as np\n",
    "\n",
    "# dataframe capability\n",
    "import pandas as pd\n",
    "\n",
    "# ABMHAP capability\n",
    "import my_globals as mg\n",
    "import chad_demography_adult_non_work as cdanw\n",
    "import chad_demography_adult_work as cdaw\n",
    "import chad_demography_child_school as cdcs\n",
    "import chad_demography_child_young as cdcy\n",
    "import demography as dmg\n",
    "\n",
    "import activity, plotter, temporal"
   ]
  },
  {
   "cell_type": "code",
   "execution_count": 3,
   "metadata": {},
   "outputs": [
    {
     "name": "stdout",
     "output_type": "stream",
     "text": [
      "Using matplotlib backend: Qt5Agg\n"
     ]
    }
   ],
   "source": [
    "%matplotlib auto"
   ]
  },
  {
   "cell_type": "markdown",
   "metadata": {},
   "source": [
    "run"
   ]
  },
  {
   "cell_type": "code",
   "execution_count": 5,
   "metadata": {
    "collapsed": true
   },
   "outputs": [],
   "source": [
    "#\n",
    "# get the file name\n",
    "#\n",
    "\n",
    "# variation\n",
    "fpath = mg.FDIR_MY_DATA \n",
    "\n",
    "# file paths for each demographic\n",
    "fpath_adult_work = fpath + '\\\\11_21_2017\\\\n8192_d364'\n",
    "fpath_adult_non_work = fpath + '\\\\11_27_2017\\\\n8192_d364'\n",
    "fpath_child_school = fpath + '\\\\11_29_2017\\\\n8192_d364'\n",
    "fpath_child_young = fpath + '\\\\12_07_2017\\\\n8192_d364'\n",
    "\n",
    "# full file names for each demographic\n",
    "fname_adult_work = fpath_adult_work + '\\\\data_adult_work.pkl'\n",
    "fname_adult_non_work = fpath_adult_non_work + '\\\\data_adult_non_work.pkl'\n",
    "fname_child_school = fpath_child_school + '\\\\data_child_school.pkl'\n",
    "fname_child_young  = fpath_child_young + '\\\\data_child_young.pkl' \n",
    "\n",
    "# demographic chooser\n",
    "chooser = {dmg.ADULT_WORK: cdaw.CHAD_demography_adult_work(),\n",
    "           dmg.ADULT_NON_WORK: cdanw.CHAD_demography_adult_non_work(),\n",
    "           dmg.CHILD_SCHOOL: cdcs.CHAD_demography_child_school(),\n",
    "           dmg.CHILD_YOUNG: cdcy.CHAD_demography_child_young(),\n",
    "          }"
   ]
  },
  {
   "cell_type": "code",
   "execution_count": 6,
   "metadata": {
    "collapsed": true
   },
   "outputs": [],
   "source": [
    "#\n",
    "# load demographic information\n",
    "#\n",
    "adult_work     = mg.load(fname_adult_work)\n",
    "adult_non_work = mg.load(fname_adult_non_work)\n",
    "child_school   = mg.load(fname_child_school)\n",
    "child_young    = mg.load(fname_child_young)"
   ]
  },
  {
   "cell_type": "code",
   "execution_count": 9,
   "metadata": {
    "collapsed": true
   },
   "outputs": [],
   "source": [
    "# set the data\n",
    "data_all = (adult_work, adult_non_work, child_school, child_young)\n",
    "\n",
    "# set the titles of the data\n",
    "titles   = ('Working Adults', 'Non-working Adults', 'School-age Children', 'Pre-school Children')"
   ]
  },
  {
   "cell_type": "code",
   "execution_count": 10,
   "metadata": {
    "collapsed": true
   },
   "outputs": [],
   "source": [
    "# th index of the agent whose chosen for each demgoraphic, respectively\n",
    "idx = 2\n",
    "\n",
    "# full simulation data\n",
    "diary_demo_full = [ xx.diaries[idx][0].df for xx in data_all]\n",
    "\n",
    "# simulation data set to 14 days\n",
    "diary_demo_week = []\n",
    "for xx in data_all:\n",
    "    df = xx.diaries[idx][0].df\n",
    "    diary_demo_week.append( df[df.day <= 14])"
   ]
  },
  {
   "cell_type": "markdown",
   "metadata": {},
   "source": [
    "plot"
   ]
  },
  {
   "cell_type": "code",
   "execution_count": null,
   "metadata": {
    "collapsed": true
   },
   "outputs": [],
   "source": [
    "#\n",
    "# plot longitudinal plots of the daily activities\n",
    "#\n",
    "linewidth = 0.5\n",
    "data = diary_demo_week\n",
    "plotter.plot_longitude(data=data, titles=titles, linewidth=linewidth)\n",
    "linewidth = None\n",
    "\n",
    "plt.show()"
   ]
  },
  {
   "cell_type": "code",
   "execution_count": 12,
   "metadata": {
    "collapsed": true
   },
   "outputs": [],
   "source": [
    "#\n",
    "# plot the distribution of how many times each activity was done\n",
    "#\n",
    "\n",
    "for data, title in zip(data_all, titles):    \n",
    "    plotter.plot_count(data, chooser[data.demographic].keys, do_abs=True, title=title)\n",
    "    plotter.plot_count(data, chooser[data.demographic].keys, do_abs=False, title=title)\n",
    "    \n",
    "plt.show()"
   ]
  }
 ],
 "metadata": {
  "kernelspec": {
   "display_name": "Python 3",
   "language": "python",
   "name": "python3"
  },
  "language_info": {
   "codemirror_mode": {
    "name": "ipython",
    "version": 3
   },
   "file_extension": ".py",
   "mimetype": "text/x-python",
   "name": "python",
   "nbconvert_exporter": "python",
   "pygments_lexer": "ipython3",
   "version": "3.5.3"
  }
 },
 "nbformat": 4,
 "nbformat_minor": 1
}
