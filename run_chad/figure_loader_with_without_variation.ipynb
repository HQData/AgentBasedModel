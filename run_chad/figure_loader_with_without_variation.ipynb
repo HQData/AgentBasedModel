{
 "cells": [
  {
   "cell_type": "code",
   "execution_count": 1,
   "metadata": {
    "collapsed": true
   },
   "outputs": [],
   "source": [
    "# The United States Environmental Protection Agency through its Office of\n",
    "# Research and Development has developed this software. The code is made\n",
    "# publicly available to better communicate the research. All input data\n",
    "# used fora given application should be reviewed by the researcher so\n",
    "# that the model results are based on appropriate data for any given\n",
    "# application. This model is under continued development. The model and\n",
    "# data included herein do not represent and should not be construed to\n",
    "# represent any Agency determination or policy.\n",
    "#\n",
    "# This file was written by Dr. Namdi Brandon\n",
    "# ORCID: 0000-0001-7050-1538\n",
    "# March 20, 2018"
   ]
  },
  {
   "cell_type": "markdown",
   "metadata": {},
   "source": [
    "This notebook loads the individual data about the cumuluative distribution functions (CDFs) comaparing the Agent-Based Model of Human Activity Patterns (ABMHAP) results to the Consolidated Human Activity Database (CHAD) data. The plots compare the distribution activity-parameter data from ABMHAP to CHAD. More specifically, the we compare the ABMHAP with intra-individual variation, ABMHAP without intra-individual variation, and CHAD single-day data.\n",
    "\n",
    "This module loads and plots a figure with the following:\n",
    "\n",
    "1. CDFs of ABMHAP with intra-individual variation vs. ABMHAP without intra-individual variation vs. CHAD longitudinal data for activity-parameters\n"
   ]
  },
  {
   "cell_type": "markdown",
   "metadata": {},
   "source": [
    "Import "
   ]
  },
  {
   "cell_type": "code",
   "execution_count": 2,
   "metadata": {
    "collapsed": true
   },
   "outputs": [],
   "source": [
    "import sys\n",
    "sys.path.append('..\\\\source')\n",
    "sys.path.append('..\\\\processing')\n",
    "sys.path.append('..\\\\plotting')\n",
    "\n",
    "# plotting capability\n",
    "import matplotlib.pylab as plt\n",
    "import matplotlib.ticker as ticker\n",
    "\n",
    "# math capability\n",
    "import numpy as np\n",
    "\n",
    "# data frame capability\n",
    "import pandas as pd\n",
    "\n",
    "# pickling capability\n",
    "import pickle\n",
    "\n",
    "# ABMHAP modules\n",
    "import my_globals as mg\n",
    "import demography as dmg\n",
    "import activity, analyzer, plotter, temporal\n",
    "\n",
    "import chad_demography_adult_work as cdaw\n",
    "import chad_demography_adult_non_work as cdanw\n",
    "import chad_demography_child_school as cdcs\n",
    "import chad_demography_child_young as cdcy"
   ]
  },
  {
   "cell_type": "code",
   "execution_count": 3,
   "metadata": {},
   "outputs": [
    {
     "name": "stdout",
     "output_type": "stream",
     "text": [
      "Using matplotlib backend: Qt5Agg\n"
     ]
    }
   ],
   "source": [
    "%matplotlib auto"
   ]
  },
  {
   "cell_type": "markdown",
   "metadata": {},
   "source": [
    "define functions"
   ]
  },
  {
   "cell_type": "code",
   "execution_count": 4,
   "metadata": {
    "collapsed": true
   },
   "outputs": [],
   "source": [
    "# plot subplots\n",
    "\n",
    "def plot_subplots(data_list1, data_list2, data_list3, do_cdf, main_title, legend, xlabels, ylabels, \\\n",
    "                       xunits, yunits, colors, do_save=False, fname=None, linewidth=1):\n",
    "    \n",
    "    # the dimensions of a maximized figure. Base x Height [pixels]\n",
    "    b_pixels, h_pixels = 2400, 1255\n",
    "    my_dpi = 800\n",
    "    \n",
    "    b_in = b_pixels/my_dpi\n",
    "    h_in = h_pixels/my_dpi\n",
    "    \n",
    "    \n",
    "    # set the figure size for saving to custom if savinig\n",
    "    if do_save:\n",
    "        figsize, dpi = (b_in, h_in), my_dpi        \n",
    "    else:\n",
    "        figsize, dpi = None, None\n",
    "        \n",
    "    # data_list is     \n",
    "    nrows, ncols = 3, len(data_list1[0])\n",
    "\n",
    "    if do_cdf:\n",
    "        f, axes = plt.subplots(nrows, ncols, sharey=True, figsize=figsize, dpi=dpi)\n",
    "    else:\n",
    "        f, axes = plt.subplots(nrows, ncols, sharex=True, figsize=figsize, dpi=dpi)\n",
    "\n",
    "   \n",
    "    #\n",
    "    # plot\n",
    "    #\n",
    "    alpha = 0.7\n",
    "    for i , ax in enumerate(f.axes):\n",
    "\n",
    "        # indices\n",
    "        irow = i // ncols\n",
    "        jcol = i % ncols\n",
    "\n",
    "        # plot data\n",
    "        temp1 = data_list1[irow][jcol]\n",
    "        temp2 = data_list2[irow][jcol]\n",
    "        temp3 = data_list3[irow][jcol]\n",
    "        \n",
    "        counter = 0\n",
    "        \n",
    "        # ii for testing if \n",
    "        ii = 0\n",
    "        \n",
    "        for t1, t2, color in zip(temp1, temp2, colors):\n",
    "            \n",
    "            if ii == 0:\n",
    "                x_data1, y_data1 = t1\n",
    "                x_data2, y_data2 = t2\n",
    "\n",
    "                if counter == 0:\n",
    "                    c1 = 'blue'\n",
    "                    c2 = 'k'\n",
    "                    #c2 = 'green'\n",
    "                else:\n",
    "                    c1 = 'red'\n",
    "                    c2 = 'red'\n",
    "\n",
    "                if do_cdf and irow == 2:\n",
    "                    idx = x_data1 >= 0                                \n",
    "\n",
    "                    ax.plot(x_data1[idx], y_data1[idx], color=c1, linewidth=linewidth, alpha=alpha) \n",
    "                    ax.plot(x_data2[idx], y_data2[idx], color=c2, ls='--', linewidth=linewidth, alpha=alpha)\n",
    "                else:\n",
    "                    ax.plot(x_data1, y_data1, color=c1, linewidth=linewidth, alpha=alpha) \n",
    "                    ax.plot(x_data2, y_data2, color=c2, ls='--', linewidth=linewidth, alpha=alpha) \n",
    "\n",
    "                # access the CHAD data\n",
    "                x_data3, y_data3 = temp3[1]\n",
    "                \n",
    "                if (irow in [0, 1]) and jcol in [1, 4]:\n",
    "                    x_data3 = mg.from_periodic(x_data3, do_hours=True)\n",
    "\n",
    "                ax.plot(x_data3, y_data3, color='r', linewidth=linewidth, alpha=alpha)\n",
    "\n",
    "                counter = counter + 1\n",
    "                ii = ii + 1\n",
    "            #\n",
    "            # set the tick labels\n",
    "            #\n",
    "            ticksize=14\n",
    "            ax.tick_params(axis='both', labelsize=ticksize)\n",
    "            \n",
    "            if irow == 2:\n",
    "                ax.xaxis.set_major_locator(ticker.MaxNLocator(nbins=5))\n",
    "                        \n",
    "            if do_cdf and irow in [0, 1]:\n",
    "                # limit the xaxis to integernumbers\n",
    "                x_all = [x.get_xdata() for x in ax.lines]\n",
    "                x_all = np.hstack(x_all).flatten()\n",
    "                x_min, x_max = np.floor( np.min(x_all) ), np.ceil( np.max(x_all))\n",
    "                dx = abs(x_min - x_max) + 1\n",
    "                nbins = np.ceil(dx/2)\n",
    "                ax.xaxis.set_major_locator(ticker.MaxNLocator(nbins))\n",
    "                \n",
    "                ax.set_xlim(x_min, x_max)\n",
    "                \n",
    "                # set the xticks\n",
    "                # testing\n",
    "                x_min = np.round(x_min).astype(int)\n",
    "                x_max = np.round(x_max).astype(int)\n",
    "                dx = (x_max - x_min) / (5 - 1)\n",
    "                dx = np.floor(dx).astype(int)\n",
    "                xticks = np.arange(x_min, x_max, dx)\n",
    "                ax.set_xticks(xticks)\n",
    "                            \n",
    "            \n",
    "    # main title\n",
    "    fontsize_title = 18\n",
    "    f.suptitle(main_title, fontsize=fontsize_title)\n",
    "\n",
    "    # legend    \n",
    "    f.legend( f.axes[0].lines, legend, 'best')\n",
    "\n",
    "    #\n",
    "    # set the x-axis labels\n",
    "    #    \n",
    "\n",
    "    fontsize_label = 18\n",
    "    for ax, xlabel in zip( axes[nrows-1,:], xlabels) :\n",
    "        ax.set_xlabel(xlabel, fontsize=fontsize_label)                \n",
    "        \n",
    "        if not do_cdf:\n",
    "            x_min, x_max = 0, 1    \n",
    "            ax.set_xlim(x_min, x_max)\n",
    "            xticks = np.linspace(x_min, x_max, 3)\n",
    "            ax.set_xticks(xticks)\n",
    "            ##ax.set_xticks(xticks, fontsize=20)\n",
    "            #ax.set_xticklabels(labels=[], fontsize=20)        \n",
    "        \n",
    "    # set x titles\n",
    "    for ax, key in zip(axes[0,:], keys):\n",
    "        #ax.set_title( activity.INT_2_STR[key], fontsize=fontsize_title )\n",
    "        ax.set_title( activity.INT_2_STR[key], fontsize=14 )\n",
    "        \n",
    "    #\n",
    "    # set the y-axis labels\n",
    "    #\n",
    "    for ax, ylabel in zip(axes[:, ncols-1], ylabels):    \n",
    "        ax.yaxis.set_label_position('right')\n",
    "        ax.set_ylabel(ylabel, fontsize=fontsize_label, rotation=270, labelpad=20)\n",
    "        \n",
    "    for i, ax in enumerate(axes[:,0]):        \n",
    "        ax.yaxis.set_label_position('left')\n",
    "        ax.set_ylabel(yunits[i], fontsize=fontsize_label)\n",
    "        \n",
    "        if do_cdf:\n",
    "            y_min, y_max = 0, 1\n",
    "            ax.set_ylim(y_min, y_max)\n",
    "            \n",
    "    if do_save and (fname is not None):\n",
    "        f.savefig(fname, dpi=my_dpi)    \n",
    "    \n",
    "    return"
   ]
  },
  {
   "cell_type": "markdown",
   "metadata": {},
   "source": [
    "set up the parameters"
   ]
  },
  {
   "cell_type": "code",
   "execution_count": 5,
   "metadata": {
    "collapsed": true
   },
   "outputs": [],
   "source": [
    "#\n",
    "# choose the deomography\n",
    "#\n",
    "demo = dmg.CHILD_YOUNG\n",
    "\n",
    "chooser = {dmg.ADULT_WORK: cdaw.CHAD_demography_adult_work(),\n",
    "           dmg.ADULT_NON_WORK: cdanw.CHAD_demography_adult_non_work(),\n",
    "           dmg.CHILD_SCHOOL: cdcs.CHAD_demography_child_school(),\n",
    "           dmg.CHILD_YOUNG: cdcy.CHAD_demography_child_young(),\n",
    "           }\n",
    "\n",
    "# the CHAD demogramphy object\n",
    "chad_demo = chooser[demo]\n",
    "\n",
    "# the CHAD sampling parameters\n",
    "s_params = chad_demo.int_2_param"
   ]
  },
  {
   "cell_type": "code",
   "execution_count": 6,
   "metadata": {
    "collapsed": true
   },
   "outputs": [],
   "source": [
    "# save the figures\n",
    "do_save_fig = False\n",
    "\n",
    "# whether or not to show the plots\n",
    "do_show = True\n",
    "\n",
    "# the linewidth\n",
    "linewidth = 1"
   ]
  },
  {
   "cell_type": "code",
   "execution_count": 7,
   "metadata": {
    "scrolled": true
   },
   "outputs": [
    {
     "name": "stdout",
     "output_type": "stream",
     "text": [
      "the figure save path 1:\t..\\my_data\\fig\\12_07_2017\\n8192_d364\\child_young\n",
      "the figure save path 2:\t..\\my_data\\fig\\01_16_2018_no_variation\\n8192_d007\\child_young\n"
     ]
    }
   ],
   "source": [
    "\n",
    "#fpath1 = mg.FDIR_SAVE_FIG + '\\\\11_21_2017\\\\n8192_d364' # with variation\n",
    "#fpath2 = mg.FDIR_SAVE_FIG + '\\\\01_11_2018\\\\n8192_d007_no_variation' # no variation\n",
    "\n",
    "fpath1 = mg.FDIR_SAVE_FIG + '\\\\12_07_2017\\\\n8192_d364' # with variation\n",
    "fpath2 = mg.FDIR_SAVE_FIG + '\\\\01_16_2018_no_variation\\\\n8192_d007' # no variation\n",
    "\n",
    "#fpath_temp = mg.FDIR_SAVE_FIG + '\\\\with_without_variation'\n",
    "#fpath1 = fpath_temp + '\\\\n8192_d007_with_variation'\n",
    "#fpath2 = fpath_temp + '\\\\n8192_d364_no_variation'\n",
    "\n",
    "fpath_figure_save1 = fpath1 + '\\\\child_young'\n",
    "fpath_figure_save2 = fpath2 + '\\\\child_young'\n",
    "\n",
    "# print the save figure directory\n",
    "print('the figure save path 1:\\t%s' % fpath_figure_save1)\n",
    "print('the figure save path 2:\\t%s' % fpath_figure_save2)\n",
    "\n",
    "# different sets of activitiy data to plot\n",
    "keys_all = chad_demo.keys\n",
    "\n",
    "keys_eat = [mg.KEY_EAT_BREAKFAST, mg.KEY_EAT_LUNCH, mg.KEY_EAT_DINNER]\n",
    "\n",
    "keys_not_eat = [ k for k in keys_all if k not in keys_eat ]"
   ]
  },
  {
   "cell_type": "markdown",
   "metadata": {},
   "source": [
    "Plotting"
   ]
  },
  {
   "cell_type": "code",
   "execution_count": 8,
   "metadata": {
    "collapsed": true
   },
   "outputs": [],
   "source": [
    "DO_ALL = 1\n",
    "DO_MEALS = 2\n",
    "DO_NOT_MEALS = 3\n",
    "\n",
    "# (the activites to plot, part of the file name that matches the keys)\n",
    "chooser_keys = { DO_ALL: (keys_all, 'all'), \\\n",
    "                DO_MEALS: (keys_eat, 'meals'),\\\n",
    "                DO_NOT_MEALS: (keys_not_eat, 'not_meals'),\n",
    "               }"
   ]
  },
  {
   "cell_type": "code",
   "execution_count": 9,
   "metadata": {
    "collapsed": true
   },
   "outputs": [],
   "source": [
    "#\n",
    "# set the activities to plot\n",
    "#\n",
    "plot_keys = DO_ALL\n",
    "\n",
    "keys, fname_keys = chooser_keys[plot_keys]\n",
    "name_keys = [ activity.INT_2_STR[k] for k in keys]\n",
    "\n",
    "\n",
    "# labels on the right hand side of the plot\n",
    "ylabels = ['Start Time', 'End Time', 'Duration']"
   ]
  },
  {
   "cell_type": "markdown",
   "metadata": {},
   "source": [
    "Plot CDFs vs Longitudinal data"
   ]
  },
  {
   "cell_type": "markdown",
   "metadata": {},
   "source": [
    "plot verification"
   ]
  },
  {
   "cell_type": "code",
   "execution_count": 10,
   "metadata": {
    "collapsed": true
   },
   "outputs": [],
   "source": [
    "# get the figure directory of ABMHAP runs with intra-individual variation\n",
    "fpaths1 = analyzer.get_verify_fpath(fpath_figure_save1, keys)\n",
    "\n",
    "# get the figure directory of ABMHAP runs with no intra-individual variation\n",
    "fpaths2 = analyzer.get_verify_fpath(fpath_figure_save2, keys)"
   ]
  },
  {
   "cell_type": "code",
   "execution_count": 11,
   "metadata": {
    "collapsed": true
   },
   "outputs": [],
   "source": [
    "# load figure data with longitudinal data\n",
    "\n",
    "# file names\n",
    "fname = '\\\\cdf_' + fname_keys + '.png'\n",
    "\n",
    "# load figure data\n",
    "data_list_all1, fname_subplot1 = plotter.get_figure_data(fpaths1, fpath_figure_save1, fname)\n",
    "data_list_all2, fname_subplot2 = plotter.get_figure_data(fpaths2, fpath_figure_save2, fname)"
   ]
  },
  {
   "cell_type": "markdown",
   "metadata": {},
   "source": [
    "Get the data for a random single day"
   ]
  },
  {
   "cell_type": "code",
   "execution_count": 16,
   "metadata": {},
   "outputs": [],
   "source": [
    "# load figure data of sinlge-day data\n",
    "\n",
    "# file names\n",
    "fname = '\\\\cdf_' + fname_keys + '.png'\n",
    "\n",
    "fnames_load = ('\\\\cdf_start.pkl', '\\\\cdf_end.pkl', '\\\\cdf_dt.pkl')\n",
    "\n",
    "# load figure data from ABMHAP figures with intra-individual variation\n",
    "data_list_all_single_day1, fname_subplot1 = \\\n",
    "plotter.get_figure_data(fpaths1, fpath_figure_save1, fname, fnames_load=fnames_load, do_single_day=True)\n",
    "\n",
    "# load figure data from ABMHAP figures with no intra-individual variation\n",
    "data_list_all_single_day2, fname_subplot2 = \\\n",
    "plotter.get_figure_data(fpaths2, fpath_figure_save2, fname, fnames_load=fnames_load, do_single_day=True)\n"
   ]
  },
  {
   "cell_type": "code",
   "execution_count": 18,
   "metadata": {},
   "outputs": [
    {
     "data": {
      "text/plain": [
       "'..\\\\my_data\\\\fig\\\\01_16_2018_no_variation\\\\n8192_d007\\\\child_young'"
      ]
     },
     "execution_count": 18,
     "metadata": {},
     "output_type": "execute_result"
    }
   ],
   "source": [
    "fpath_figure_save2"
   ]
  },
  {
   "cell_type": "markdown",
   "metadata": {},
   "source": [
    "plot the cdf"
   ]
  },
  {
   "cell_type": "code",
   "execution_count": 15,
   "metadata": {},
   "outputs": [
    {
     "name": "stderr",
     "output_type": "stream",
     "text": [
      "C:\\Users\\nbrandon\\AppData\\Local\\Continuum\\Anaconda3\\lib\\site-packages\\matplotlib\\legend.py:338: UserWarning: Automatic legend placement (loc=\"best\") not implemented for figure legend. Falling back on \"upper right\".\n",
      "  warnings.warn('Automatic legend placement (loc=\"best\") not '\n"
     ]
    }
   ],
   "source": [
    "#\n",
    "# plot the verification cdf\n",
    "#\n",
    "\n",
    "#\n",
    "# plotting parameters\n",
    "#\n",
    "do_cdf = True\n",
    "\n",
    "colors = ['blue', 'red']\n",
    "legend = ['With Intra','No Intra', 'CHAD single day', 'CHAD means']\n",
    "\n",
    "xunits = 'Hours'\n",
    "yunits = ['Quantile'] * 3\n",
    "\n",
    "main_title = 'CDFs of Activity-parameters'\n",
    "\n",
    "xlabels = [xunits] * len(keys)\n",
    "\n",
    "# \n",
    "# plot\n",
    "#\n",
    "\n",
    "# set the data\n",
    "data_list1 = data_list_all_single_day1 # with variaiton\n",
    "data_list2 = data_list_all_single_day2 # no variation\n",
    "data_list3 = data_list_all_single_day1 # acesses the CHAD random day data which is encapsulated within\n",
    "                                        # data_list[irow][icol][1]\n",
    "\n",
    "# plot the data\n",
    "plot_subplots(data_list1=data_list1, data_list2=data_list2, data_list3=data_list3, \\\n",
    "                   do_cdf=do_cdf, main_title=main_title, \\\n",
    "                   legend=legend, xlabels=xlabels, ylabels=ylabels, xunits=xunits, yunits=yunits, colors=colors, \\\n",
    "                   do_save=do_save_fig, fname=fname_subplot1, linewidth=0.5)\n",
    "\n",
    "if do_show:\n",
    "    plt.show()\n",
    "else:\n",
    "    plt.close()"
   ]
  },
  {
   "cell_type": "code",
   "execution_count": null,
   "metadata": {
    "collapsed": true
   },
   "outputs": [],
   "source": []
  }
 ],
 "metadata": {
  "kernelspec": {
   "display_name": "Python 3",
   "language": "python",
   "name": "python3"
  },
  "language_info": {
   "codemirror_mode": {
    "name": "ipython",
    "version": 3
   },
   "file_extension": ".py",
   "mimetype": "text/x-python",
   "name": "python",
   "nbconvert_exporter": "python",
   "pygments_lexer": "ipython3",
   "version": "3.5.3"
  }
 },
 "nbformat": 4,
 "nbformat_minor": 1
}
