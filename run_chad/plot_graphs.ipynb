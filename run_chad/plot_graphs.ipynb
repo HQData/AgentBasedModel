{
 "cells": [
  {
   "cell_type": "code",
   "execution_count": 1,
   "metadata": {
    "collapsed": true
   },
   "outputs": [],
   "source": [
    "# The United States Environmental Protection Agency through its Office of\n",
    "# Research and Development has developed this software. The code is made\n",
    "# publicly available to better communicate the research. All input data\n",
    "# used fora given application should be reviewed by the researcher so\n",
    "# that the model results are based on appropriate data for any given\n",
    "# application. This model is under continued development. The model and\n",
    "# data included herein do not represent and should not be construed to\n",
    "# represent any Agency determination or policy.\n",
    "#\n",
    "# This file was written by Dr. Namdi Brandon\n",
    "# ORCID: 0000-0001-7050-1538\n",
    "# March 20, 2018"
   ]
  },
  {
   "cell_type": "markdown",
   "metadata": {},
   "source": [
    "This notebook plots graphs comparing results from the Agent-Based Model of Human Activity Patterns (ABMHAP) to the data from the Consolidated Human Activity Database (CHAD).\n",
    "\n",
    "1. plots the graphs of a distribution of the mean values of the agent and compares it to the distribution of CHAD mean values from the longitudinaal data for each activity start time, end time, and duration. The plots are the following:\n",
    "\n",
    "\n",
    "2. plots the graphs of a distribution of 1 randomly chosen day from each agent and compares it to the distribution of CHAD single-day data for each activity start time, end time, and duration. The plots are the following:\n",
    "    a. the CDF plots of the ABMHAP distribution and CHAD distribution\n",
    "    b. the inveted CDF plots of the ABMHAP distribution and CHAD distribution\n",
    "    c. the inverted residual plots of the ABMHAP distribution and CHAD distribution\n",
    "    d. the scaled inverted residual plots of the ABMHAP distribution and CHAD distribution\n",
    "    \n",
    "3. The results of the figures are saved in a suite of .pkl files"
   ]
  },
  {
   "cell_type": "markdown",
   "metadata": {},
   "source": [
    "Import"
   ]
  },
  {
   "cell_type": "code",
   "execution_count": 2,
   "metadata": {
    "collapsed": true
   },
   "outputs": [],
   "source": [
    "import os, sys\n",
    "sys.path.append('..\\\\source')\n",
    "sys.path.append('..\\\\processing')\n",
    "\n",
    "# plotting capbailities\n",
    "import matplotlib.pylab as plt\n",
    "\n",
    "# ABMHAP capabilities\n",
    "import my_globals as mg\n",
    "import chad_demography_adult_non_work as cdanw\n",
    "import chad_demography_adult_work as cdaw\n",
    "import chad_demography_child_school as cdcs\n",
    "import chad_demography_child_young as cdcy\n",
    "import demography as dmg\n",
    "import evaluation as ev\n",
    "\n",
    "import activity, analysis, analyzer, zipfile"
   ]
  },
  {
   "cell_type": "code",
   "execution_count": null,
   "metadata": {},
   "outputs": [],
   "source": [
    "%matplotlib auto"
   ]
  },
  {
   "cell_type": "markdown",
   "metadata": {},
   "source": [
    "load the data"
   ]
  },
  {
   "cell_type": "code",
   "execution_count": null,
   "metadata": {},
   "outputs": [],
   "source": [
    "#\n",
    "# load the data\n",
    "#\n",
    "\n",
    "#\n",
    "# Get filename to load the data\n",
    "#\n",
    "\n",
    "# get the file name\n",
    "f_data_ending = '\\\\12_07_2017\\\\n8192_d364'\n",
    "\n",
    "# the file path directory to load the data\n",
    "fpath = mg.FDIR_MY_DATA + f_data_ending\n",
    "\n",
    "# the full file name for loading the data\n",
    "fname_load_data = fpath + '\\\\data_child_young.pkl'\n",
    "\n",
    "print('Loading data from:\\t%s' % fname_load_data)\n",
    "\n",
    "# clear variables\n",
    "fname, fpath = None, None\n",
    "\n",
    "# load the data\n",
    "x = mg.load(fname_load_data)\n",
    "\n",
    "# get all of the data frames\n",
    "df_list = x.get_all_data()        \n",
    "\n",
    "# demographic\n",
    "demo = x.demographic"
   ]
  },
  {
   "cell_type": "markdown",
   "metadata": {},
   "source": [
    "parameters for saving the data"
   ]
  },
  {
   "cell_type": "code",
   "execution_count": null,
   "metadata": {
    "scrolled": true
   },
   "outputs": [],
   "source": [
    "#\n",
    "# Get directory to save the figrues in\n",
    "#\n",
    "\n",
    "# file directory for saving the data\n",
    "fpath = mg.FDIR_SAVE_FIG + f_data_ending\n",
    "\n",
    "# map the demographic to the correct file directory\n",
    "chooser_fout = {dmg.ADULT_WORK: fpath + '\\\\adult_work',\n",
    "       dmg.ADULT_NON_WORK: fpath + '\\\\adult_non_work',\n",
    "       dmg.CHILD_SCHOOL: fpath + '\\\\child_school',\n",
    "       dmg.CHILD_YOUNG: fpath + '\\\\child_young',\n",
    "      }\n",
    "\n",
    "# get the file directory to save the data\n",
    "fpath_save_fig = chooser_fout[demo]\n",
    "\n",
    "print('The directory to save the data:\\t%s' % fpath_save_fig)\n",
    "\n",
    "# clear variables\n",
    "fpath = None"
   ]
  },
  {
   "cell_type": "markdown",
   "metadata": {},
   "source": [
    "the plotting parameters"
   ]
  },
  {
   "cell_type": "code",
   "execution_count": 21,
   "metadata": {
    "collapsed": true
   },
   "outputs": [],
   "source": [
    "#\n",
    "# plotting flags\n",
    "#\n",
    "\n",
    "# calculates the plots\n",
    "do_plot = True\n",
    "\n",
    "# save the figures\n",
    "do_save_fig = False\n",
    "\n",
    "# show the plots\n",
    "do_show = False\n",
    "\n",
    "# show extra print messages\n",
    "do_print = False"
   ]
  },
  {
   "cell_type": "code",
   "execution_count": 14,
   "metadata": {
    "collapsed": true
   },
   "outputs": [],
   "source": [
    "#\n",
    "# demography\n",
    "#\n",
    "\n",
    "# map the demograph;y identifiyer to the demographics object\n",
    "chooser = {dmg.ADULT_WORK: cdaw.CHAD_demography_adult_work(),\n",
    "           dmg.ADULT_NON_WORK: cdanw.CHAD_demography_adult_non_work(),\n",
    "           dmg.CHILD_SCHOOL: cdcs.CHAD_demography_child_school(),\n",
    "           dmg.CHILD_YOUNG: cdcy.CHAD_demography_child_young(),\n",
    "          }\n",
    "\n",
    "# choose the demography\n",
    "chad_demo = chooser[demo]"
   ]
  },
  {
   "cell_type": "markdown",
   "metadata": {},
   "source": [
    "plot "
   ]
  },
  {
   "cell_type": "code",
   "execution_count": null,
   "metadata": {},
   "outputs": [],
   "source": [
    "# CHAD parameters\n",
    "chad_param_list = chad_demo.int_2_param\n",
    "\n",
    "# get the activity codes for a given trial\n",
    "act_codes = chad_demo.keys\n",
    "\n",
    "# the directories for the respective activities. This is used for saving the figures\n",
    "fdirs = analyzer.get_verify_fpath(fpath_save_fig, act_codes)\n",
    "\n",
    "if fpath_save_fig is None:\n",
    "    do_save_fig = False\n",
    "\n",
    "# offset, used for figure identifiers\n",
    "off = 0\n",
    "\n",
    "# number of days in the simulation\n",
    "n_days = len( df_list[0].day.unique() )\n",
    "\n",
    "fid = 0\n",
    "\n",
    "for act, fpath in zip(act_codes, fdirs):\n",
    "\n",
    "    print( activity.INT_2_STR[act])\n",
    "    if (do_print):\n",
    "        msg = 'starting analysis for the ' + activity.INT_2_STR[act] + ' activity ...'\n",
    "        print(msg)\n",
    "\n",
    "    # this is to see if the analysis of the moments for start time needs to be in [-12, 12)\n",
    "    # instead of [0, 24) format\n",
    "    chooser     = {activity.SLEEP: True, }\n",
    "    do_periodic = chooser.get(act, False)\n",
    "\n",
    "    # get the CHAD data\n",
    "    # this is here to access the data frames from t.initialize()    \n",
    "    f_stats = chad_demo.fname_stats[act]\n",
    "    \n",
    "    # the sampling parameters for 1 household\n",
    "    s_params = chad_demo.int_2_param[act]    \n",
    "    \n",
    "    # get the CHAD data\n",
    "    chad_start, chad_end, chad_dt, chad_record = \\\n",
    "        analysis.get_verification_info(demo=demo, key_activity=act, fname_stats=f_stats, \\\n",
    "                                       sampling_params=[s_params] )    \n",
    "        \n",
    "    # plot the ABMHAP data\n",
    "    df_abm         = ev.sample_activity_abm(df_list, act)\n",
    "    abm_start_mean = df_abm.start.values\n",
    "    abm_end_mean   = df_abm.end.values\n",
    "    abm_dt_mean    = df_abm.dt.values        \n",
    "\n",
    "    # create the plots\n",
    "    if (do_plot):\n",
    "\n",
    "        print(fpath)\n",
    "        #if s_params.do_start:\n",
    "        fid = fid + 1\n",
    "        analyzer.plot_verify_start(act, abm_start_mean, chad_start['mu'].values, fid=fid, \\\n",
    "                                   do_save_fig=do_save_fig, fpath=fpath)\n",
    "\n",
    "        #if s_params.do_end:\n",
    "        fid = fid + 1\n",
    "        analyzer.plot_verify_end(act, abm_end_mean, chad_end['mu'].values, fid=fid, \\\n",
    "                                 do_save_fig=do_save_fig, fpath=fpath)\n",
    "\n",
    "        #if s_params.do_dt:\n",
    "        fid = fid + 1\n",
    "        analyzer.plot_verify_dt(act, abm_dt_mean, chad_dt['mu'].values, fid=fid, \\\n",
    "                                 do_save_fig=do_save_fig, fpath=fpath)\n",
    "\n",
    "if do_show:\n",
    "    plt.show()\n",
    "else:\n",
    "    plt.close('all')"
   ]
  },
  {
   "cell_type": "markdown",
   "metadata": {
    "collapsed": true
   },
   "source": [
    "Validation"
   ]
  },
  {
   "cell_type": "code",
   "execution_count": null,
   "metadata": {},
   "outputs": [],
   "source": [
    "# get the CHAD sampling parameters for the given demographioc\n",
    "chad_param_list = x.chad_param_list\n",
    "\n",
    "# get the sampling parameters\n",
    "s_params = chad_param_list[0]\n",
    "\n",
    "# get the figure index\n",
    "fidx = 100\n",
    "\n",
    "# save flag\n",
    "do_save = False\n",
    "\n",
    "print(fpath_save_fig)"
   ]
  },
  {
   "cell_type": "markdown",
   "metadata": {},
   "source": [
    "Compare random events"
   ]
  },
  {
   "cell_type": "code",
   "execution_count": null,
   "metadata": {
    "collapsed": true
   },
   "outputs": [],
   "source": [
    "# the activity codes\n",
    "act_codes = chad_demo.keys\n",
    "#act_codes = [mg.KEY_WORK]\n",
    "\n",
    "# open the data\n",
    "z = zipfile.ZipFile(chad_demo.fname_zip, mode='r')\n",
    "\n",
    "# this flag allows the code to pick a random record from the longitudinal data (if True)\n",
    "# or single-day data (if False)\n",
    "do_random_long = False\n",
    "\n",
    "# for each activity, plot the corresponding plots\n",
    "for act in act_codes:\n",
    "    \n",
    "    print( activity.INT_2_STR[act] )\n",
    "    \n",
    "    \n",
    "    # periodic time flag [-12, 12)\n",
    "    do_periodic = False\n",
    "    \n",
    "    # if the activity occurs over midnight (if True), set the \n",
    "    # \n",
    "    if act == activity.SLEEP:\n",
    "        do_periodic = True\n",
    "    \n",
    "    # sample the ABM data\n",
    "    df_abm  = ev.sample_activity_abm(df_list, act)\n",
    "        \n",
    "    # get the CHAD data\n",
    "    # this is here to access the data frames from t.initialize()    \n",
    "    f_stats = chad_demo.fname_stats[act]\n",
    "\n",
    "    # get the file name data of the single name data\n",
    "    if do_random_long == False:\n",
    "        for k in f_stats.keys():\n",
    "            f_stats[k] = f_stats[k].replace('longitude', 'solo')            \n",
    "            \n",
    "    # the sampling parameters for 1 household\n",
    "    s_params = chad_demo.int_2_param[act]    \n",
    "\n",
    "    # get the CHAD data\n",
    "    stats_start, stats_end, stats_dt, record = \\\n",
    "        analysis.get_verification_info(demo=demo, key_activity=act, fname_stats=f_stats, \\\n",
    "                                       sampling_params=[s_params])\n",
    "        \n",
    "    # grouby the CHAD records by identifier\n",
    "    gb  = record.groupby('PID')\n",
    "    pid = record.PID.unique()    \n",
    "    \n",
    "    # return true if x is in pid\n",
    "    f = lambda x: x in pid\n",
    "    \n",
    "    # indices of records within 'pid'\n",
    "    i = record.PID.apply(f)\n",
    "    \n",
    "    # get the CHAD observations\n",
    "    df_obs = record[i]    \n",
    "    \n",
    "    # get teh CHAD records that satisfy the sampling parameters for the given activity\n",
    "    df_obs_new = s_params.get_record(df_obs, do_periodic)\n",
    "    \n",
    "    # get the single day observations\n",
    "    print(fpath_save_fig)\n",
    "    fid_last    = ev.compare_abm_to_chad_help(df_abm=df_abm, df_obs=df_obs_new, act_code=act, fidx=fidx, \\\n",
    "                                              do_save=do_save, fpath=fpath_save_fig)\n",
    "    fidx        = fid_last + 1\n",
    "\n",
    "z.close()\n",
    "\n",
    "print('finished plotting...')\n",
    "\n",
    "# show the plots\n",
    "if do_show:\n",
    "    plt.show()\n",
    "else:\n",
    "    # clear all of the plots\n",
    "    plt.close('all')\n",
    "\n",
    "fpath = None"
   ]
  }
 ],
 "metadata": {
  "kernelspec": {
   "display_name": "Python 3",
   "language": "python",
   "name": "python3"
  },
  "language_info": {
   "codemirror_mode": {
    "name": "ipython",
    "version": 3
   },
   "file_extension": ".py",
   "mimetype": "text/x-python",
   "name": "python",
   "nbconvert_exporter": "python",
   "pygments_lexer": "ipython3",
   "version": "3.5.3"
  }
 },
 "nbformat": 4,
 "nbformat_minor": 1
}
