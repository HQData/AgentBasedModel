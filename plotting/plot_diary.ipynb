{
 "cells": [
  {
   "cell_type": "code",
   "execution_count": 1,
   "metadata": {
    "collapsed": true
   },
   "outputs": [],
   "source": [
    "# The United States Environmental Protection Agency through its Office of\n",
    "# Research and Development has developed this software. The code is made\n",
    "# publicly available to better communicate the research. All input data\n",
    "# used fora given application should be reviewed by the researcher so\n",
    "# that the model results are based on appropriate data for any given\n",
    "# application. This model is under continued development. The model and\n",
    "# data included herein do not represent and should not be construed to\n",
    "# represent any Agency determination or policy.\n",
    "#\n",
    "# This file was written by Dr. Namdi Brandon\n",
    "# ORCID: 0000-0001-7050-1538\n",
    "# March 20, 2018"
   ]
  },
  {
   "cell_type": "markdown",
   "metadata": {},
   "source": [
    "This file contains the functions necessary to visualize the activity diaries."
   ]
  },
  {
   "cell_type": "markdown",
   "metadata": {},
   "source": [
    "Import"
   ]
  },
  {
   "cell_type": "code",
   "execution_count": 2,
   "metadata": {
    "collapsed": true
   },
   "outputs": [],
   "source": [
    "import sys\n",
    "sys.path.append('..\\\\source')\n",
    "\n",
    "# plotting functions\n",
    "import matplotlib.pylab as plt\n",
    "\n",
    "# mathematical capability\n",
    "import numpy as np\n",
    "\n",
    "# dataframe capability\n",
    "import pandas as pd\n",
    "\n",
    "# agent-based model modules\n",
    "import my_globals as mg\n",
    "import activity, temporal\n"
   ]
  },
  {
   "cell_type": "code",
   "execution_count": 3,
   "metadata": {},
   "outputs": [
    {
     "name": "stdout",
     "output_type": "stream",
     "text": [
      "Using matplotlib backend: Qt5Agg\n"
     ]
    }
   ],
   "source": [
    "# plotting scheme\n",
    "%matplotlib auto"
   ]
  },
  {
   "cell_type": "markdown",
   "metadata": {},
   "source": [
    "Functions"
   ]
  },
  {
   "cell_type": "code",
   "execution_count": 4,
   "metadata": {
    "collapsed": true
   },
   "outputs": [],
   "source": [
    "def plot_activity_diary(df, show_legend=False, fontsize=8, dpi=300):\n",
    "    \n",
    "    \"\"\"\n",
    "    This function plots the activity diary for a given agent. The information is represented \n",
    "    in terms of horizontal barcharts in which the agent is performing an activity and where \n",
    "    the x-axis is the time of day (in hours).\n",
    "    \n",
    "    :param pandas.core.frame.DataFrame df: the activity diary of a given agent\n",
    "    :param bool show_legend: a flag indicating whether (if True) or not (if False) to show \\\n",
    "    the legend in the plot\n",
    "    :param int fontsize: the font size of the text within the plot\n",
    "    :param int dpi: the resolution of the plot in dots per inch\n",
    "    \n",
    "    :return: a tuple of a list of the lines that were plotted AND a list of the labels. This \\ \n",
    "    information is used in plotting the legend seperately\n",
    "    \"\"\"    \n",
    "    \n",
    "    # set the font size for ticks, labels, titles, and legend\n",
    "    fontsize_ticks = fontsize\n",
    "    fontsize_title = fontsize\n",
    "    fontsize_label = fontsize\n",
    "    fontsize_title = fontsize   \n",
    "    fontsize_legend = fontsize\n",
    "    \n",
    "    # set font axis parameters\n",
    "    font_axis = {'family': 'serif',\n",
    "        'color':  'black',\n",
    "        'weight': 'normal',\n",
    "        'size': fontsize_ticks,}\n",
    "    \n",
    "    #\n",
    "    # plot horizontal bars using matplotlib\n",
    "    #\n",
    "    \n",
    "    # create the plot\n",
    "    f, ax = plt.subplots(dpi=dpi)\n",
    "\n",
    "    # a list of the lines plotted\n",
    "    lines = list()\n",
    "    align = 'center'\n",
    "    \n",
    "    # the labels in chornological order\n",
    "    labels = [ activity.INT_2_STR[x] for x in df.act.unique() ]\n",
    "    \n",
    "    # set the label for \"no actviity\" to \"Idle\"\n",
    "    for i, x in enumerate(labels):\n",
    "        if x == activity.INT_2_STR[activity.NO_ACTIVITY]:\n",
    "            labels[i] = 'Idle'\n",
    "    \n",
    "    # the flag to indicate whether the figure lines will be used for the legend\n",
    "    do_legend = [ (x, True) for x in df.act.unique()]\n",
    "    do_legend = dict(do_legend)\n",
    "    \n",
    "    # plot the diaries \n",
    "    for i in range( len(df) ):\n",
    "        \n",
    "        # get the activity entry\n",
    "        x = df.iloc[i]    \n",
    "        \n",
    "        # get the corresponding color and label\n",
    "        color = activity.INT_2_COLOR[x.act]\n",
    "        label = activity.INT_2_STR[x.act]\n",
    "        \n",
    "        # for the first entry\n",
    "        if i == 0:           \n",
    "            # plot the entry in the beginning of the bar chart\n",
    "            p = ax.barh(x.day, x.start, color=color, label=label, left=x.start, align=align)        \n",
    "        \n",
    "        else:\n",
    "            # if the activity starts on one day and ends on the next,            \n",
    "            if x.start > x.end:\n",
    "                # plot the activity entry until midnight on the first days bar chart and \n",
    "                # and starting at midnight on the next day's bar chart\n",
    "                p = ax.barh(x.day, x.start, left=df.iloc[i-1].end, color=color, label=label, align=align)\n",
    "                ax.barh(x.day+1, x.end, left=0, color=color, label=label, align=align)\n",
    "\n",
    "            else:\n",
    "                # add the activity entry to the current day's bar chart\n",
    "                p = ax.barh(x.day, x.start, left=df.iloc[i-1].end, color=color, label=label, align=align)\n",
    "\n",
    "        # if it's the first time an activity is plotted, add it to the legend.\n",
    "        if do_legend[x.act]:\n",
    "            lines.append(p)\n",
    "            do_legend[x.act] = False            \n",
    "\n",
    "    #\n",
    "    # handle the text related to plotting\n",
    "    #\n",
    "\n",
    "    # set the title\n",
    "    f.suptitle('Daily Activity Diary', fontsize=fontsize_title)\n",
    "\n",
    "    # create the legend    \n",
    "    if show_legend:\n",
    "        f.legend(lines, labels, 'best', fontsize=fontsize_legend)\n",
    "\n",
    "    # set the x limits\n",
    "    ax.set_xlim( [0, 24])\n",
    "\n",
    "    # set the x tick-marks\n",
    "    xticks = np.linspace(0, 24, 9)\n",
    "    ax.set_xticks(xticks)\n",
    "\n",
    "    # set the font size of the x ticks\n",
    "    ax.tick_params(axis='both', labelsize=fontsize_ticks)\n",
    "\n",
    "    # label axes\n",
    "    ax.set_xlabel('Time [h]', fontdict=font_axis)\n",
    "    ax.set_ylabel('Day', fontdict=font_axis)\n",
    "\n",
    "    # invert yaxis\n",
    "    ax.invert_yaxis()\n",
    "    \n",
    "    return lines, labels\n",
    "\n",
    "def plot_longitude(data, titles, linewidth=1):\n",
    "    \n",
    "    \"\"\"\n",
    "    This function plots a chart showing the amount of time spent during each activity. The x-axis is the \n",
    "    time in hours and the y-axis is the duration (in minutes) represented in a log10 scale.\n",
    "    \n",
    "    :param list data: a list of dataframes where each dataframe represents an activity diary of an agent.\n",
    "    :param list titles: a list of titles for each plot\n",
    "    :param int linewidth: the linewidth of the lines within the plot\n",
    "    \"\"\"\n",
    "        \n",
    "    # the number of rows and columns (the dimensions) for the subplots\n",
    "    nrows, ncols = 1, 1\n",
    "    \n",
    "    #\n",
    "    # create axes\n",
    "    #\n",
    "    f, ax = plt.subplots(nrows, ncols, sharex=True, sharey=True)\n",
    "    \n",
    "    \n",
    "    # plot the graphs\n",
    "    K = [ plot_longitude_help(ax, data[i], linewidth) for i, ax in enumerate(f.axes)] \n",
    "   \n",
    "    # the number of unique activities, including idle time\n",
    "    K0 = data[0].act.unique()\n",
    "    \n",
    "    # a list of each activity expressed as a string\n",
    "    keys = [ activity.INT_2_STR[k] for k in K0]\n",
    "    print(keys)\n",
    "    \n",
    "    # show the legend\n",
    "    f.legend( f.axes[0].lines, keys, 'best' )\n",
    "\n",
    "    # the subplot title size\n",
    "    fontsize_title=18\n",
    "    \n",
    "    # the tick size\n",
    "    ticksize=14\n",
    "    \n",
    "    # for each plot, set the font size and the tick size\n",
    "    for i, ax in enumerate(f.axes):\n",
    "        ax.set_title(titles[i], fontsize=fontsize_title)         \n",
    "        ax.tick_params(axis='both', labelsize=ticksize)\n",
    "\n",
    "    # set the main title\n",
    "    f.suptitle('Daily Activity Duration', fontsize=fontsize_title)\n",
    "\n",
    "    # write axes for x and y \n",
    "    df = data[0]\n",
    "    xlabel, ylabel = 'Day', 'Duration [minutes]'\n",
    "    x_min, x_max = df.day.values[0], df.day.values[-1]\n",
    "\n",
    "    #\n",
    "    # set the x and y axes\n",
    "    #\n",
    "    \n",
    "    # the y-label size\n",
    "    fontsize_label = 18 \n",
    "    \n",
    "    # set the ylabel\n",
    "    ax.set_ylabel(ylabel, fontsize=fontsize_label)\n",
    "    \n",
    "    return\n",
    "\n",
    "def plot_longitude_help(ax, df, linewidth=1):\n",
    "    \n",
    "    \"\"\"\n",
    "    This function actually handles plotting the longitude plot. This is to be used in \n",
    "    plot_longitude(). For each activity, the function plots the respectivie activity-duration \n",
    "    on a long10 scale on each day.\n",
    "    \n",
    "    :param matplotlib.axes._subplots.AxesSubplot ax: for plotting object\n",
    "    :param pandas.core.frame.DataFrame df: the activity diary of a given agent\n",
    "    :param int linewidth: the linewidth of the lines within the plot\n",
    "    \n",
    "    :return: a list of the unique activity codes in the activity diary\n",
    "    \"\"\"\n",
    "    \n",
    "    colors = activity.INT_2_COLOR\n",
    "    \n",
    "    # the days in the simulation\n",
    "    days = df.day.unique()\n",
    "    \n",
    "    # the activities that were done by the person in the simulation\n",
    "    keys = df.act.unique()\n",
    "            \n",
    "    # group activities by day\n",
    "    gb = df.groupby('day')\n",
    "\n",
    "    # for each activity, plot the duration \n",
    "    for k in keys:\n",
    "        \n",
    "        # the duration data\n",
    "        y = np.zeros(days.shape)\n",
    "\n",
    "        # for each day\n",
    "        for i, d in enumerate(days):\n",
    "\n",
    "            # get the activity data for the given day\n",
    "            temp = gb.get_group(d)\n",
    "            temp = temp[temp.act == k]\n",
    "                        \n",
    "            # if there the respectivie activity does not happen that day, return NaN\n",
    "            # this allows python to avoid plotting the activity on that specific day\n",
    "            if temp.size == 0:\n",
    "                dt = np.nan                \n",
    "            else:\n",
    "                dt = temp.dt.values.sum()\n",
    "\n",
    "            # convert the duration from hours to minutes\n",
    "            y[i] = temporal.HOUR_2_MIN * dt\n",
    "\n",
    "        # plot the data for the kth activity on a log10 scale     \n",
    "        ax.plot(days, np.log10(y), '-*', label=activity.INT_2_STR[k], color=colors[k], linewidth=linewidth)            \n",
    "        \n",
    "    return keys\n",
    "\n"
   ]
  },
  {
   "cell_type": "markdown",
   "metadata": {},
   "source": [
    "Run"
   ]
  },
  {
   "cell_type": "markdown",
   "metadata": {},
   "source": [
    "Load Activity Diary"
   ]
  },
  {
   "cell_type": "code",
   "execution_count": 5,
   "metadata": {
    "collapsed": true
   },
   "outputs": [],
   "source": [
    "# the file name of the activity diary\n",
    "fname = mg.FDIR_MY_DATA + '\\\\main_result.csv'\n",
    "\n",
    "# load the activity diary as a dataframe\n",
    "df = pd.read_csv(fname)"
   ]
  },
  {
   "cell_type": "markdown",
   "metadata": {},
   "source": [
    "Plot the activity diary"
   ]
  },
  {
   "cell_type": "code",
   "execution_count": 6,
   "metadata": {
    "collapsed": true
   },
   "outputs": [],
   "source": [
    "# figure resolution [ dots per inch (dpi) ]\n",
    "# dpi needs to be at least 300 for submission to some journals\n",
    "dpi=300\n",
    "\n",
    "# font size of text within the figure\n",
    "fontsize = 8\n",
    "\n",
    "# plot the activity diary\n",
    "lines, labels = plot_activity_diary(df, dpi=dpi, fontsize=8)\n",
    "\n",
    "# show the plot\n",
    "plt.show()\n"
   ]
  },
  {
   "cell_type": "markdown",
   "metadata": {},
   "source": [
    "Isolate the legend"
   ]
  },
  {
   "cell_type": "code",
   "execution_count": 7,
   "metadata": {},
   "outputs": [
    {
     "name": "stderr",
     "output_type": "stream",
     "text": [
      "C:\\Users\\nbrandon\\AppData\\Local\\Continuum\\Anaconda3\\lib\\site-packages\\matplotlib\\legend.py:338: UserWarning: Automatic legend placement (loc=\"best\") not implemented for figure legend. Falling back on \"upper right\".\n",
      "  warnings.warn('Automatic legend placement (loc=\"best\") not '\n"
     ]
    }
   ],
   "source": [
    "# create the plot\n",
    "fig, ax = plt.subplots(dpi=dpi)\n",
    "\n",
    "# plot the legend\n",
    "fig.legend(lines, labels, 'best', fontsize=fontsize)\n",
    "\n",
    "# do not plot anything else\n",
    "ax.set_xticks([])\n",
    "ax.set_yticks([])\n",
    "ax.axis('off')\n",
    "\n",
    "# show the plot\n",
    "plt.show()"
   ]
  },
  {
   "cell_type": "markdown",
   "metadata": {},
   "source": [
    "Longitudinal Activity-Duration Plots"
   ]
  },
  {
   "cell_type": "code",
   "execution_count": 9,
   "metadata": {},
   "outputs": [
    {
     "name": "stdout",
     "output_type": "stream",
     "text": [
      "['No Activity', 'Eat Dinner', 'Sleep', 'Commute to Work', 'Work', 'Eat Lunch', 'Commute from Work', 'Eat Breakfast']\n"
     ]
    },
    {
     "name": "stderr",
     "output_type": "stream",
     "text": [
      "C:\\Users\\nbrandon\\AppData\\Local\\Continuum\\Anaconda3\\lib\\site-packages\\matplotlib\\legend.py:338: UserWarning: Automatic legend placement (loc=\"best\") not implemented for figure legend. Falling back on \"upper right\".\n",
      "  warnings.warn('Automatic legend placement (loc=\"best\") not '\n"
     ]
    }
   ],
   "source": [
    "#\n",
    "# plot longitudinal plots of the daily activities\n",
    "#\n",
    "\n",
    "# the title\n",
    "titles = ('Working Adult',)\n",
    "\n",
    "# the activity data\n",
    "data = (df,)\n",
    "\n",
    "# the width of the lines in the plots\n",
    "linewidth = 1\n",
    "\n",
    "# plot the activity durations\n",
    "plot_longitude(data=data, titles=titles, linewidth=linewidth)\n",
    "\n",
    "# show the plot\n",
    "plt.show()"
   ]
  },
  {
   "cell_type": "code",
   "execution_count": null,
   "metadata": {
    "collapsed": true
   },
   "outputs": [],
   "source": []
  }
 ],
 "metadata": {
  "kernelspec": {
   "display_name": "Python 3",
   "language": "python",
   "name": "python3"
  },
  "language_info": {
   "codemirror_mode": {
    "name": "ipython",
    "version": 3
   },
   "file_extension": ".py",
   "mimetype": "text/x-python",
   "name": "python",
   "nbconvert_exporter": "python",
   "pygments_lexer": "ipython3",
   "version": "3.5.3"
  }
 },
 "nbformat": 4,
 "nbformat_minor": 1
}
